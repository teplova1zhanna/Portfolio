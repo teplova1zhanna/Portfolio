{
  "cells": [
    {
      "cell_type": "markdown",
      "metadata": {
        "id": "VNHGOfC-XfzF"
      },
      "source": [
        "# Проверка гипотез для увеличения выручки интернет-магазина"
      ]
    },
    {
      "cell_type": "markdown",
      "metadata": {
        "id": "n5sG_ltpXfzF"
      },
      "source": [
        "**Цель исследования -** проанализировать влияние проверяемых гипотез на выручку интернет-магазина. <br>\n",
        "    \n",
        "**Ход исследования:**\n",
        "1. Приоритизация гипотез: предобработка данных, применение фреймворков ICE и RICE, объяснение получившихся результатов.\n",
        "2. Анализ A/B-теста: предобработка данных, построение графиков, выбор границ для определения аномальных значений, вычисление статистической значимости различий в исследуемых показателях, принятие решения об остановке или продолжении теста."
      ]
    },
    {
      "cell_type": "markdown",
      "metadata": {
        "id": "dnLKi4GnXfzF"
      },
      "source": [
        "**Описание данных:**\n",
        "<ol> \n",
        "    <li>Датафрейм hypothesis:</li>\n",
        "<ul>\n",
        "<li>Hypothesis — краткое описание гипотезы;</li>\n",
        "<li>Reach — охват пользователей по 10-балльной шкале;</li>\n",
        "<li>Impact — влияние на пользователей по 10-балльной шкале;</li>\n",
        "<li>Confidence — уверенность в гипотезе по 10-балльной шкале;</li>\n",
        "<li>Efforts — затраты ресурсов на проверку гипотезы по 10-балльной шкале: чем больше значение Efforts, тем дороже проверка гипотезы.</li> <br>\n",
        "</ul>\n",
        "    <li>Датафрейм orders:</li>\n",
        "<ul>\n",
        "<li> transactionId — идентификатор заказа;</li>\n",
        "<li>visitorId — идентификатор пользователя, совершившего заказ;</li>\n",
        "<li>date — дата, когда был совершён заказ;</li>\n",
        "<li>revenue — выручка заказа;</li>\n",
        "<li>group — группа A/B-теста, в которую попал заказ.</li><br>\n",
        "</ul>\n",
        "    <li>Датафрейм visitors:</li>\n",
        "<ul>\n",
        "<li>date — дата;</li>\n",
        "<li>group — группа A/B-теста;</li>\n",
        "<li>visitors — количество пользователей в указанную дату в указанной группе A/B-теста.</li>\n",
        "</ul>"
      ]
    },
    {
      "cell_type": "markdown",
      "metadata": {
        "id": "QoaA9LiYXfzG"
      },
      "source": [
        "## Часть 1. Приоритизация гипотез."
      ]
    },
    {
      "cell_type": "markdown",
      "metadata": {
        "id": "itzwsxFYXfzG"
      },
      "source": [
        "### Предобработка данных"
      ]
    },
    {
      "cell_type": "code",
      "execution_count": null,
      "metadata": {
        "id": "OyN7P0qOXfzH"
      },
      "outputs": [],
      "source": [
        "#импортирую нужные библиотеки\n",
        "import pandas as pd\n",
        "from datetime import datetime, timedelta\n",
        "import numpy as np\n",
        "import matplotlib.pyplot as plt\n",
        "import scipy.stats as stats"
      ]
    },
    {
      "cell_type": "code",
      "execution_count": null,
      "metadata": {
        "id": "Ux0G8U1LXfzH"
      },
      "outputs": [],
      "source": [
        "#добавляю файлы\n",
        "hypothesis = pd.read_csv('/datasets/hypothesis.csv', sep=',')\n",
        "orders = pd.read_csv('/datasets/orders.csv', sep=',')\n",
        "visitors = pd.read_csv('/datasets/visitors.csv', sep=',')"
      ]
    },
    {
      "cell_type": "markdown",
      "metadata": {
        "id": "BlJXzZKnXfzI"
      },
      "source": [
        "Для начала необходимо ознакомиться с датафреймом, который будет задействован в первой части исследования. "
      ]
    },
    {
      "cell_type": "code",
      "execution_count": null,
      "metadata": {
        "id": "WYtIfcoYXfzI",
        "outputId": "d0a18de2-86bd-4c45-caf2-6474ca55b89b"
      },
      "outputs": [
        {
          "data": {
            "text/plain": [
              "0"
            ]
          },
          "metadata": {},
          "output_type": "display_data"
        },
        {
          "name": "stdout",
          "output_type": "stream",
          "text": [
            "<class 'pandas.core.frame.DataFrame'>\n",
            "RangeIndex: 9 entries, 0 to 8\n",
            "Data columns (total 5 columns):\n",
            " #   Column      Non-Null Count  Dtype \n",
            "---  ------      --------------  ----- \n",
            " 0   Hypothesis  9 non-null      object\n",
            " 1   Reach       9 non-null      int64 \n",
            " 2   Impact      9 non-null      int64 \n",
            " 3   Confidence  9 non-null      int64 \n",
            " 4   Efforts     9 non-null      int64 \n",
            "dtypes: int64(4), object(1)\n",
            "memory usage: 488.0+ bytes\n"
          ]
        },
        {
          "data": {
            "text/plain": [
              "None"
            ]
          },
          "metadata": {},
          "output_type": "display_data"
        }
      ],
      "source": [
        "#проверяю первый датафрейм на дубликаты и смотрю типы данных\n",
        "display(hypothesis.duplicated().sum())\n",
        "display(hypothesis.info())"
      ]
    },
    {
      "cell_type": "markdown",
      "metadata": {
        "id": "hlzVp2z2XfzI"
      },
      "source": [
        "Дубликаты не найдены, тип данных корректный во всех случаях, можно перейти к вычислению ICE и RICE."
      ]
    },
    {
      "cell_type": "markdown",
      "metadata": {
        "id": "g8fXAVw9XfzI"
      },
      "source": [
        "### Применение фреймворка ICE для приоритизации гипотез. Сортировка гипотез по убыванию приоритета."
      ]
    },
    {
      "cell_type": "code",
      "execution_count": null,
      "metadata": {
        "id": "YgHnMYl-XfzJ",
        "outputId": "316597f7-7b48-4f35-ac78-a56d6745d3fb"
      },
      "outputs": [
        {
          "data": {
            "text/html": [
              "<div>\n",
              "<style scoped>\n",
              "    .dataframe tbody tr th:only-of-type {\n",
              "        vertical-align: middle;\n",
              "    }\n",
              "\n",
              "    .dataframe tbody tr th {\n",
              "        vertical-align: top;\n",
              "    }\n",
              "\n",
              "    .dataframe thead th {\n",
              "        text-align: right;\n",
              "    }\n",
              "</style>\n",
              "<table border=\"1\" class=\"dataframe\">\n",
              "  <thead>\n",
              "    <tr style=\"text-align: right;\">\n",
              "      <th></th>\n",
              "      <th>Hypothesis</th>\n",
              "      <th>Reach</th>\n",
              "      <th>Impact</th>\n",
              "      <th>Confidence</th>\n",
              "      <th>Efforts</th>\n",
              "      <th>ICE</th>\n",
              "    </tr>\n",
              "  </thead>\n",
              "  <tbody>\n",
              "    <tr>\n",
              "      <th>8</th>\n",
              "      <td>Запустить акцию, дающую скидку на товар в день рождения</td>\n",
              "      <td>1</td>\n",
              "      <td>9</td>\n",
              "      <td>9</td>\n",
              "      <td>5</td>\n",
              "      <td>16.2</td>\n",
              "    </tr>\n",
              "    <tr>\n",
              "      <th>0</th>\n",
              "      <td>Добавить два новых канала привлечения трафика, что позволит привлекать на 30% больше пользователей</td>\n",
              "      <td>3</td>\n",
              "      <td>10</td>\n",
              "      <td>8</td>\n",
              "      <td>6</td>\n",
              "      <td>13.3</td>\n",
              "    </tr>\n",
              "    <tr>\n",
              "      <th>7</th>\n",
              "      <td>Добавить форму подписки на все основные страницы, чтобы собрать базу клиентов для email-рассылок</td>\n",
              "      <td>10</td>\n",
              "      <td>7</td>\n",
              "      <td>8</td>\n",
              "      <td>5</td>\n",
              "      <td>11.2</td>\n",
              "    </tr>\n",
              "    <tr>\n",
              "      <th>6</th>\n",
              "      <td>Показать на главной странице баннеры с актуальными акциями и распродажами, чтобы увеличить конверсию</td>\n",
              "      <td>5</td>\n",
              "      <td>3</td>\n",
              "      <td>8</td>\n",
              "      <td>3</td>\n",
              "      <td>8.0</td>\n",
              "    </tr>\n",
              "    <tr>\n",
              "      <th>2</th>\n",
              "      <td>Добавить блоки рекомендаций товаров на сайт интернет магазина, чтобы повысить конверсию и средний чек заказа</td>\n",
              "      <td>8</td>\n",
              "      <td>3</td>\n",
              "      <td>7</td>\n",
              "      <td>3</td>\n",
              "      <td>7.0</td>\n",
              "    </tr>\n",
              "    <tr>\n",
              "      <th>1</th>\n",
              "      <td>Запустить собственную службу доставки, что сократит срок доставки заказов</td>\n",
              "      <td>2</td>\n",
              "      <td>5</td>\n",
              "      <td>4</td>\n",
              "      <td>10</td>\n",
              "      <td>2.0</td>\n",
              "    </tr>\n",
              "    <tr>\n",
              "      <th>5</th>\n",
              "      <td>Добавить страницу отзывов клиентов о магазине, что позволит увеличить количество заказов</td>\n",
              "      <td>3</td>\n",
              "      <td>2</td>\n",
              "      <td>2</td>\n",
              "      <td>3</td>\n",
              "      <td>1.3</td>\n",
              "    </tr>\n",
              "    <tr>\n",
              "      <th>3</th>\n",
              "      <td>Изменить структура категорий, что увеличит конверсию, т.к. пользователи быстрее найдут нужный товар</td>\n",
              "      <td>8</td>\n",
              "      <td>3</td>\n",
              "      <td>3</td>\n",
              "      <td>8</td>\n",
              "      <td>1.1</td>\n",
              "    </tr>\n",
              "    <tr>\n",
              "      <th>4</th>\n",
              "      <td>Изменить цвет фона главной страницы, чтобы увеличить вовлеченность пользователей</td>\n",
              "      <td>3</td>\n",
              "      <td>1</td>\n",
              "      <td>1</td>\n",
              "      <td>1</td>\n",
              "      <td>1.0</td>\n",
              "    </tr>\n",
              "  </tbody>\n",
              "</table>\n",
              "</div>"
            ],
            "text/plain": [
              "                                                                                                     Hypothesis  \\\n",
              "8                                                       Запустить акцию, дающую скидку на товар в день рождения   \n",
              "0            Добавить два новых канала привлечения трафика, что позволит привлекать на 30% больше пользователей   \n",
              "7              Добавить форму подписки на все основные страницы, чтобы собрать базу клиентов для email-рассылок   \n",
              "6          Показать на главной странице баннеры с актуальными акциями и распродажами, чтобы увеличить конверсию   \n",
              "2  Добавить блоки рекомендаций товаров на сайт интернет магазина, чтобы повысить конверсию и средний чек заказа   \n",
              "1                                     Запустить собственную службу доставки, что сократит срок доставки заказов   \n",
              "5                      Добавить страницу отзывов клиентов о магазине, что позволит увеличить количество заказов   \n",
              "3           Изменить структура категорий, что увеличит конверсию, т.к. пользователи быстрее найдут нужный товар   \n",
              "4                              Изменить цвет фона главной страницы, чтобы увеличить вовлеченность пользователей   \n",
              "\n",
              "   Reach  Impact  Confidence  Efforts   ICE  \n",
              "8      1       9           9        5  16.2  \n",
              "0      3      10           8        6  13.3  \n",
              "7     10       7           8        5  11.2  \n",
              "6      5       3           8        3   8.0  \n",
              "2      8       3           7        3   7.0  \n",
              "1      2       5           4       10   2.0  \n",
              "5      3       2           2        3   1.3  \n",
              "3      8       3           3        8   1.1  \n",
              "4      3       1           1        1   1.0  "
            ]
          },
          "metadata": {},
          "output_type": "display_data"
        }
      ],
      "source": [
        "#считаю показатель ICE для каждой гипотезы\n",
        "hypothesis['ICE'] = ((hypothesis['Impact'] * hypothesis['Confidence']) / hypothesis['Efforts']).round(1)\n",
        "#отображаю целиком формулировку гипотез\n",
        "pd.options.display.max_colwidth = 120\n",
        "display(hypothesis.sort_values(by='ICE',ascending=False))"
      ]
    },
    {
      "cell_type": "markdown",
      "metadata": {
        "id": "v4hxn-eIXfzJ"
      },
      "source": [
        "Наивысший показатель ICE у 9 (**Запустить акцию, дающую скидку на товар в день рождения**), 1 (**Добавить два новых канала привлечения трафика, что позволит привлекать на 30% больше пользователей**) и 8 (**Добавить форму подписки на все основные страницы, чтобы собрать базу клиентов для email-рассылок**) гипотез за счет высоких значений Impact (влияние изменений на пользователей) и Confidence (уверенность в оценках остальных параметров), а также не самых высоких показателей Efforts (сложность проверки гипотезы)."
      ]
    },
    {
      "cell_type": "markdown",
      "metadata": {
        "id": "bjIOokOcXfzJ"
      },
      "source": [
        "### Применение фреймворка RICE для приоритизации гипотез. Сортировка гипотез по убыванию приоритета."
      ]
    },
    {
      "cell_type": "code",
      "execution_count": null,
      "metadata": {
        "id": "N0bKPbB8XfzJ",
        "outputId": "7d939657-9983-437b-b22d-1237976ddcce"
      },
      "outputs": [
        {
          "data": {
            "text/html": [
              "<div>\n",
              "<style scoped>\n",
              "    .dataframe tbody tr th:only-of-type {\n",
              "        vertical-align: middle;\n",
              "    }\n",
              "\n",
              "    .dataframe tbody tr th {\n",
              "        vertical-align: top;\n",
              "    }\n",
              "\n",
              "    .dataframe thead th {\n",
              "        text-align: right;\n",
              "    }\n",
              "</style>\n",
              "<table border=\"1\" class=\"dataframe\">\n",
              "  <thead>\n",
              "    <tr style=\"text-align: right;\">\n",
              "      <th></th>\n",
              "      <th>Hypothesis</th>\n",
              "      <th>Reach</th>\n",
              "      <th>Impact</th>\n",
              "      <th>Confidence</th>\n",
              "      <th>Efforts</th>\n",
              "      <th>ICE</th>\n",
              "      <th>RICE</th>\n",
              "    </tr>\n",
              "  </thead>\n",
              "  <tbody>\n",
              "    <tr>\n",
              "      <th>7</th>\n",
              "      <td>Добавить форму подписки на все основные страницы, чтобы собрать базу клиентов для email-рассылок</td>\n",
              "      <td>10</td>\n",
              "      <td>7</td>\n",
              "      <td>8</td>\n",
              "      <td>5</td>\n",
              "      <td>11.2</td>\n",
              "      <td>112.0</td>\n",
              "    </tr>\n",
              "    <tr>\n",
              "      <th>2</th>\n",
              "      <td>Добавить блоки рекомендаций товаров на сайт интернет магазина, чтобы повысить конверсию и средний чек заказа</td>\n",
              "      <td>8</td>\n",
              "      <td>3</td>\n",
              "      <td>7</td>\n",
              "      <td>3</td>\n",
              "      <td>7.0</td>\n",
              "      <td>56.0</td>\n",
              "    </tr>\n",
              "    <tr>\n",
              "      <th>0</th>\n",
              "      <td>Добавить два новых канала привлечения трафика, что позволит привлекать на 30% больше пользователей</td>\n",
              "      <td>3</td>\n",
              "      <td>10</td>\n",
              "      <td>8</td>\n",
              "      <td>6</td>\n",
              "      <td>13.3</td>\n",
              "      <td>40.0</td>\n",
              "    </tr>\n",
              "    <tr>\n",
              "      <th>6</th>\n",
              "      <td>Показать на главной странице баннеры с актуальными акциями и распродажами, чтобы увеличить конверсию</td>\n",
              "      <td>5</td>\n",
              "      <td>3</td>\n",
              "      <td>8</td>\n",
              "      <td>3</td>\n",
              "      <td>8.0</td>\n",
              "      <td>40.0</td>\n",
              "    </tr>\n",
              "    <tr>\n",
              "      <th>8</th>\n",
              "      <td>Запустить акцию, дающую скидку на товар в день рождения</td>\n",
              "      <td>1</td>\n",
              "      <td>9</td>\n",
              "      <td>9</td>\n",
              "      <td>5</td>\n",
              "      <td>16.2</td>\n",
              "      <td>16.2</td>\n",
              "    </tr>\n",
              "    <tr>\n",
              "      <th>3</th>\n",
              "      <td>Изменить структура категорий, что увеличит конверсию, т.к. пользователи быстрее найдут нужный товар</td>\n",
              "      <td>8</td>\n",
              "      <td>3</td>\n",
              "      <td>3</td>\n",
              "      <td>8</td>\n",
              "      <td>1.1</td>\n",
              "      <td>9.0</td>\n",
              "    </tr>\n",
              "    <tr>\n",
              "      <th>1</th>\n",
              "      <td>Запустить собственную службу доставки, что сократит срок доставки заказов</td>\n",
              "      <td>2</td>\n",
              "      <td>5</td>\n",
              "      <td>4</td>\n",
              "      <td>10</td>\n",
              "      <td>2.0</td>\n",
              "      <td>4.0</td>\n",
              "    </tr>\n",
              "    <tr>\n",
              "      <th>5</th>\n",
              "      <td>Добавить страницу отзывов клиентов о магазине, что позволит увеличить количество заказов</td>\n",
              "      <td>3</td>\n",
              "      <td>2</td>\n",
              "      <td>2</td>\n",
              "      <td>3</td>\n",
              "      <td>1.3</td>\n",
              "      <td>4.0</td>\n",
              "    </tr>\n",
              "    <tr>\n",
              "      <th>4</th>\n",
              "      <td>Изменить цвет фона главной страницы, чтобы увеличить вовлеченность пользователей</td>\n",
              "      <td>3</td>\n",
              "      <td>1</td>\n",
              "      <td>1</td>\n",
              "      <td>1</td>\n",
              "      <td>1.0</td>\n",
              "      <td>3.0</td>\n",
              "    </tr>\n",
              "  </tbody>\n",
              "</table>\n",
              "</div>"
            ],
            "text/plain": [
              "                                                                                                     Hypothesis  \\\n",
              "7              Добавить форму подписки на все основные страницы, чтобы собрать базу клиентов для email-рассылок   \n",
              "2  Добавить блоки рекомендаций товаров на сайт интернет магазина, чтобы повысить конверсию и средний чек заказа   \n",
              "0            Добавить два новых канала привлечения трафика, что позволит привлекать на 30% больше пользователей   \n",
              "6          Показать на главной странице баннеры с актуальными акциями и распродажами, чтобы увеличить конверсию   \n",
              "8                                                       Запустить акцию, дающую скидку на товар в день рождения   \n",
              "3           Изменить структура категорий, что увеличит конверсию, т.к. пользователи быстрее найдут нужный товар   \n",
              "1                                     Запустить собственную службу доставки, что сократит срок доставки заказов   \n",
              "5                      Добавить страницу отзывов клиентов о магазине, что позволит увеличить количество заказов   \n",
              "4                              Изменить цвет фона главной страницы, чтобы увеличить вовлеченность пользователей   \n",
              "\n",
              "   Reach  Impact  Confidence  Efforts   ICE   RICE  \n",
              "7     10       7           8        5  11.2  112.0  \n",
              "2      8       3           7        3   7.0   56.0  \n",
              "0      3      10           8        6  13.3   40.0  \n",
              "6      5       3           8        3   8.0   40.0  \n",
              "8      1       9           9        5  16.2   16.2  \n",
              "3      8       3           3        8   1.1    9.0  \n",
              "1      2       5           4       10   2.0    4.0  \n",
              "5      3       2           2        3   1.3    4.0  \n",
              "4      3       1           1        1   1.0    3.0  "
            ]
          },
          "metadata": {},
          "output_type": "display_data"
        }
      ],
      "source": [
        "#считаю показатель RICE для каждой гипотезы\n",
        "hypothesis['RICE'] = (hypothesis['Reach'] * hypothesis['Impact'] * hypothesis['Confidence']) / hypothesis['Efforts']\n",
        "display(hypothesis.sort_values(by='RICE',ascending=False))"
      ]
    },
    {
      "cell_type": "markdown",
      "metadata": {
        "id": "Tn5HNPIiXfzJ"
      },
      "source": [
        "Исходя из показателей RICE, наиболее перспективными гипотезами являются 8 (**Добавить форму подписки на все основные страницы, чтобы собрать базу клиентов для email-рассылок**), 3 (**Добавить блоки рекомендаций товаров на сайт интернет магазина, чтобы повысить конверсию и средний чек заказа**) и 1 (**Добавить два новых канала привлечения трафика, что позволит привлекать на 30% больше пользователей**). 9 гипотеза (**Запустить акцию, дающую скидку на товар в день рождения**), занимающая 1 место по параметру ICE, не вошла в топ приоритетных гипотез из-за минимального показателя Reach (охват пользователей). И, напротив, 3 гипотеза за счет высокого показателя Reach смогла войти в топ-3 приоритетных гипотез по показателю RICE, несмотря на довольно низкое значение Impact."
      ]
    },
    {
      "cell_type": "markdown",
      "metadata": {
        "id": "hDlWFCPPXfzJ"
      },
      "source": [
        "2 гипотезы вошли в топ-3 по перспективности в соответствии и с показателями ICE, и RICE, а именно 1 (**Добавить два новых канала привлечения трафика, что позволит привлекать на 30% больше пользователей**) и 8 (**Добавить форму подписки на все основные страницы, чтобы собрать базу клиентов для email-рассылок**) гипотезы. Из-за низкого показателя Reach 9 гипотеза (**Запустить акцию, дающую скидку на товар в день рождения**) опустилась на 4 позиции в топе по показателю RICE по сравнению с ICE, тогда как 3 гипотеза (**Добавить блоки рекомендаций товаров на сайт интернет магазина, чтобы повысить конверсию и средний чек заказа**) за счет высокого показателя Reach наоборот поднялась с 5 на 2 место по перспективности."
      ]
    },
    {
      "cell_type": "markdown",
      "metadata": {
        "id": "KYlLj5SGXfzK"
      },
      "source": [
        "## Часть 2. Анализ A/B-теста"
      ]
    },
    {
      "cell_type": "markdown",
      "metadata": {
        "id": "tq2AguVMXfzK"
      },
      "source": [
        "### Предобработка данных"
      ]
    },
    {
      "cell_type": "code",
      "execution_count": null,
      "metadata": {
        "id": "sBeZFFtTXfzK",
        "outputId": "c0157ffd-6574-4f25-8d91-c5e04283e934"
      },
      "outputs": [
        {
          "name": "stdout",
          "output_type": "stream",
          "text": [
            "<class 'pandas.core.frame.DataFrame'>\n",
            "RangeIndex: 1197 entries, 0 to 1196\n",
            "Data columns (total 5 columns):\n",
            " #   Column         Non-Null Count  Dtype \n",
            "---  ------         --------------  ----- \n",
            " 0   transactionId  1197 non-null   int64 \n",
            " 1   visitorId      1197 non-null   int64 \n",
            " 2   date           1197 non-null   object\n",
            " 3   revenue        1197 non-null   int64 \n",
            " 4   group          1197 non-null   object\n",
            "dtypes: int64(3), object(2)\n",
            "memory usage: 46.9+ KB\n"
          ]
        },
        {
          "data": {
            "text/plain": [
              "None"
            ]
          },
          "metadata": {},
          "output_type": "display_data"
        },
        {
          "name": "stdout",
          "output_type": "stream",
          "text": [
            "<class 'pandas.core.frame.DataFrame'>\n",
            "RangeIndex: 62 entries, 0 to 61\n",
            "Data columns (total 3 columns):\n",
            " #   Column    Non-Null Count  Dtype \n",
            "---  ------    --------------  ----- \n",
            " 0   date      62 non-null     object\n",
            " 1   group     62 non-null     object\n",
            " 2   visitors  62 non-null     int64 \n",
            "dtypes: int64(1), object(2)\n",
            "memory usage: 1.6+ KB\n"
          ]
        },
        {
          "data": {
            "text/plain": [
              "None"
            ]
          },
          "metadata": {},
          "output_type": "display_data"
        }
      ],
      "source": [
        "#проверяю тип данных\n",
        "display(orders.info())\n",
        "display(visitors.info())"
      ]
    },
    {
      "cell_type": "code",
      "execution_count": null,
      "metadata": {
        "id": "Bsx0F13dXfzK"
      },
      "outputs": [],
      "source": [
        "#переименовываю столбцы для удобства \n",
        "orders = orders.rename(columns={'transactionId': 'transaction_id', 'visitorId': 'visitor_id'})"
      ]
    },
    {
      "cell_type": "code",
      "execution_count": null,
      "metadata": {
        "id": "Ip4g8q7YXfzK"
      },
      "outputs": [],
      "source": [
        "#меняю тип данных у столбцов с датами с object на datetime\n",
        "orders['date'] = pd.to_datetime(orders['date'])\n",
        "visitors['date'] = pd.to_datetime(visitors['date'])"
      ]
    },
    {
      "cell_type": "markdown",
      "metadata": {
        "id": "QNxiSrCmXfzK"
      },
      "source": [
        "Для удобства пользования датафреймом поменяла названия некоторых столбцов, а также изменила тип данных в столбцах с датами с object на datetime."
      ]
    },
    {
      "cell_type": "markdown",
      "metadata": {
        "id": "FJlVkBG1XfzK"
      },
      "source": [
        "Теперь исключим ситуацию, при которой в группы попали пользователи из разных временных промежутков. "
      ]
    },
    {
      "cell_type": "code",
      "execution_count": null,
      "metadata": {
        "id": "0D-JjjvSXfzK",
        "outputId": "4423b7b6-cadf-4919-b08d-63705ba0cbec"
      },
      "outputs": [
        {
          "data": {
            "text/plain": [
              "Timestamp('2019-08-01 00:00:00')"
            ]
          },
          "metadata": {},
          "output_type": "display_data"
        },
        {
          "data": {
            "text/plain": [
              "Timestamp('2019-08-31 00:00:00')"
            ]
          },
          "metadata": {},
          "output_type": "display_data"
        },
        {
          "data": {
            "text/plain": [
              "Timestamp('2019-08-01 00:00:00')"
            ]
          },
          "metadata": {},
          "output_type": "display_data"
        },
        {
          "data": {
            "text/plain": [
              "Timestamp('2019-08-31 00:00:00')"
            ]
          },
          "metadata": {},
          "output_type": "display_data"
        }
      ],
      "source": [
        "#проверяю границы временных промежутков\n",
        "display(visitors['date'].min())\n",
        "display(visitors['date'].max())\n",
        "display(orders['date'].min())\n",
        "display(orders['date'].max())"
      ]
    },
    {
      "cell_type": "markdown",
      "metadata": {
        "id": "8HtZxZtZXfzL"
      },
      "source": [
        "Проверим оба датафрейма на явные дублкаты."
      ]
    },
    {
      "cell_type": "code",
      "execution_count": null,
      "metadata": {
        "id": "JEpn3ASCXfzL",
        "outputId": "fded0479-8046-480b-d80b-7f8276fd8223"
      },
      "outputs": [
        {
          "data": {
            "text/plain": [
              "0"
            ]
          },
          "metadata": {},
          "output_type": "display_data"
        },
        {
          "data": {
            "text/plain": [
              "0"
            ]
          },
          "metadata": {},
          "output_type": "display_data"
        }
      ],
      "source": [
        "#ищу явные дубликаты\n",
        "display(visitors.duplicated().sum())\n",
        "display(orders.duplicated().sum())"
      ]
    },
    {
      "cell_type": "markdown",
      "metadata": {
        "id": "DLYET3ArXfzL"
      },
      "source": [
        "Проверим наличие пользователей, попавших в обе группы."
      ]
    },
    {
      "cell_type": "code",
      "execution_count": null,
      "metadata": {
        "id": "sf9xnhktXfzL",
        "outputId": "765d6c5f-ed6f-4b4e-e8f4-dbd614b54146"
      },
      "outputs": [
        {
          "data": {
            "text/plain": [
              "group    58\n",
              "dtype: int64"
            ]
          },
          "metadata": {},
          "output_type": "display_data"
        },
        {
          "data": {
            "text/plain": [
              "group    0.056256\n",
              "dtype: float64"
            ]
          },
          "metadata": {},
          "output_type": "display_data"
        }
      ],
      "source": [
        "#ищу пользователей, попавших в обе группы\n",
        "visitor_id_duplicates = orders.groupby('visitor_id').agg({'group':'nunique'}).query('group > 1').count()\n",
        "display(visitor_id_duplicates)\n",
        "display(visitor_id_duplicates / len(orders['visitor_id'].unique()))"
      ]
    },
    {
      "cell_type": "markdown",
      "metadata": {
        "id": "TCDDMWvaXfzL"
      },
      "source": [
        "Обнаружилось 58 пользователей, попавших в обе группы, что составляет 5.6% от общего числа уникальных пользователей. Решим, что с ним делать, исходя из того, какую долю покупок совершили эти пользователи. "
      ]
    },
    {
      "cell_type": "code",
      "execution_count": null,
      "metadata": {
        "id": "mhFsbECVXfzL",
        "outputId": "0cb91617-a5fc-45d6-c87d-b65fa501dc4b"
      },
      "outputs": [
        {
          "data": {
            "text/plain": [
              "'Доля заказов, совершенных пользователями, которые попали в обе группы, составляет 15.1%'"
            ]
          },
          "metadata": {},
          "output_type": "display_data"
        }
      ],
      "source": [
        "#определяю долю заказов, совершенных пользователями, попавшими в обе группы\n",
        "duplicated_id = orders.groupby('visitor_id').agg({'group':'nunique'}).query('group > 1')\n",
        "duplicated_id_list = duplicated_id.index.to_list()\n",
        "display('Доля заказов, совершенных пользователями, которые попали в обе группы, составляет {:.1%}'\\\n",
        "        .format(len(orders.query('visitor_id in @duplicated_id_list')) / len(orders)))"
      ]
    },
    {
      "cell_type": "markdown",
      "metadata": {
        "id": "KfLWAzWMXfzL"
      },
      "source": [
        "Несмотря на то, что 58 пользователей кажется небольшим числом, именно их заказы, как оказалось, составляют более 15% от общего числа заказов, так что удалить их из датафрейма не получится, так что оставляем их данные. "
      ]
    },
    {
      "cell_type": "markdown",
      "metadata": {
        "id": "CaGDb3avXfzS"
      },
      "source": [
        "### Построение графика кумулятивной выручки по группам"
      ]
    },
    {
      "cell_type": "markdown",
      "metadata": {
        "id": "a9C1_wY9XfzS"
      },
      "source": [
        "Для построения графиков необходимо создать датафрейм для сбора кумулятивных данных."
      ]
    },
    {
      "cell_type": "code",
      "execution_count": null,
      "metadata": {
        "id": "YSWrjOZAXfzT"
      },
      "outputs": [],
      "source": [
        "#для начала выделяю уникальные пары значений дат и групп теста\n",
        "groups_per_date = orders[['date','group']].drop_duplicates()\n",
        "#высчитываю агрегированные кумулятивные данные о заказах \n",
        "orders_aggregated = groups_per_date.apply(lambda x: orders[np.logical_and(orders['date'] <= x['date'], orders['group'] == x['group'])]\\\n",
        ".agg({'date' : 'max', 'group' : 'max', 'transaction_id' : 'nunique', 'visitor_id' : 'nunique', 'revenue' : 'sum'}), axis=1).sort_values(by=['date','group'])\n",
        "#то же самое повторяю с данными о посетителях\n",
        "visitors_aggregated = groups_per_date.apply(lambda x: visitors[np.logical_and(visitors['date'] <= x['date'], visitors['group'] == x['group'])]\\\n",
        ".agg({'date' : 'max', 'group' : 'max', 'visitors' : 'sum'}), axis=1).sort_values(by=['date','group'])\n",
        "#объединяю данные в один датафрейм\n",
        "cumulative_data = orders_aggregated.merge(visitors_aggregated, left_on=['date', 'group'], right_on=['date', 'group'])\n",
        "cumulative_data.columns = ['date', 'group', 'orders', 'buyers', 'revenue', 'visitors']\n",
        "#display(cumulative_data)"
      ]
    },
    {
      "cell_type": "markdown",
      "metadata": {
        "id": "cYHsZkFXXfzT"
      },
      "source": [
        "Теперь переходим к построению графиков."
      ]
    },
    {
      "cell_type": "code",
      "execution_count": null,
      "metadata": {
        "scrolled": true,
        "id": "MWGqWV_WXfzT",
        "outputId": "25e31eb2-3770-45fc-8f67-8698e44149b4"
      },
      "outputs": [
        {
          "data": {
            "image/png": "[encoded data removed]",
            "text/plain": [
              "<Figure size 720x360 with 1 Axes>"
            ]
          },
          "metadata": {
            "needs_background": "light"
          },
          "output_type": "display_data"
        }
      ],
      "source": [
        "#создаю датафрейм с кумулятивными даннными группы А\n",
        "cumulative_revenue_group_a = cumulative_data[cumulative_data['group']=='A'][['date','revenue', 'orders']]\n",
        "#создаю датафрейм с кумулятивными даннными группы B\n",
        "cumulative_revenue_group_b = cumulative_data[cumulative_data['group']=='B'][['date','revenue', 'orders']]\n",
        "#строю графики\n",
        "plt.figure(figsize=(10, 5))\n",
        "plt.plot(cumulative_revenue_group_a['date'], cumulative_revenue_group_a['revenue'], label='A', color='red')\n",
        "plt.plot(cumulative_revenue_group_b['date'], cumulative_revenue_group_b['revenue'], label='B', color = 'green')\n",
        "plt.title('Кумулятивная выручка по группам')\n",
        "plt.ylabel('Выручка (млн.)')\n",
        "plt.grid(True)\n",
        "plt.legend();"
      ]
    },
    {
      "cell_type": "markdown",
      "metadata": {
        "id": "JOPrDZbZXfzT"
      },
      "source": [
        "В первой половине месяца выручка обеих групп планомерно росла с преимуществом по показателям у группы B, далее произошел резкий скачок роста выручки у группы B, а к концу месяца рост выручки у обеих групп стабилизировался. Резкий рост выручки группы B может быть обусловлен рядом причин, в том числе аномально дорогими заказами или стремительным повышением количества заказов именно в группе B."
      ]
    },
    {
      "cell_type": "markdown",
      "metadata": {
        "id": "DkZ_QMMWXfzT"
      },
      "source": [
        "### Построение графика кумулятивного среднего чека по группам"
      ]
    },
    {
      "cell_type": "code",
      "execution_count": null,
      "metadata": {
        "id": "_tN59R4WXfzT",
        "outputId": "c5421b2e-fe0e-4bb1-b0a8-a29d86fb8f89"
      },
      "outputs": [
        {
          "data": {
            "image/png": "[encoded data removed]",
            "text/plain": [
              "<Figure size 864x432 with 1 Axes>"
            ]
          },
          "metadata": {
            "needs_background": "light"
          },
          "output_type": "display_data"
        }
      ],
      "source": [
        "#строю график кумулятивного среднего чека по группам, разделив кумулятивную выручку на кумулятивное число заказов\n",
        "plt.figure(figsize=(12, 6))\n",
        "plt.plot(cumulative_revenue_group_a['date'], cumulative_revenue_group_a['revenue']/cumulative_revenue_group_a['orders'], label='A', color='red')\n",
        "plt.plot(cumulative_revenue_group_b['date'], cumulative_revenue_group_b['revenue']/cumulative_revenue_group_b['orders'], label='B', color='green')\n",
        "plt.title('Кумулятивный средний чек по группам')\n",
        "plt.ylabel('Размер среднего чека')\n",
        "plt.grid(True)\n",
        "plt.legend(loc='upper left');"
      ]
    },
    {
      "cell_type": "markdown",
      "metadata": {
        "id": "fR9YGrDgXfzU"
      },
      "source": [
        "Изменения значений среднего чека было крайне неравномерным и скачкообразным на протяжении первых трех недель августа, далее показатели относительно стабилизировались. Очевидно наличие дорогостоящих заказов в группе B во второй половине месяца. В группе А в первую неделю августа, наоборот, был заметный провал в размере среднего чека, который затем сменился на рост и стабилизацию показателей во второй половине месяца. В целом размер среднего чека группы A был почти всегда ниже, чем у группы B."
      ]
    },
    {
      "cell_type": "markdown",
      "metadata": {
        "id": "PDHV7PtqXfzU"
      },
      "source": [
        "### Построение графика относительного изменения кумулятивного среднего чека группы B к группе A"
      ]
    },
    {
      "cell_type": "code",
      "execution_count": null,
      "metadata": {
        "id": "WrUdEycLXfzU",
        "outputId": "290dee1e-3600-4418-e1ef-e00228609bf1"
      },
      "outputs": [
        {
          "data": {
            "image/png": "[encoded data removed]",
            "text/plain": [
              "<Figure size 720x360 with 1 Axes>"
            ]
          },
          "metadata": {
            "needs_background": "light"
          },
          "output_type": "display_data"
        }
      ],
      "source": [
        "#собираю данные в одном датафрейме\n",
        "merged_cumulative_revenue = cumulative_revenue_group_a.merge(cumulative_revenue_group_b, left_on='date', right_on='date', how='left', suffixes=['A', 'B'])\n",
        "#задаю размер графика\n",
        "plt.figure(figsize=(10, 5))\n",
        "#строю график\n",
        "plt.plot(merged_cumulative_revenue['date'], (merged_cumulative_revenue['revenueB']/merged_cumulative_revenue['ordersB'])/(merged_cumulative_revenue['revenueA']/merged_cumulative_revenue['ordersA'])-1)\n",
        "plt.axhline(y=0, color='grey', linestyle='--')\n",
        "plt.ylabel('Отношение среднего чека группы B к группе А')\n",
        "plt.grid(True)\n",
        "plt.title('Относительное изменение кумулятивного среднего чека группы B к группе A');"
      ]
    },
    {
      "cell_type": "markdown",
      "metadata": {
        "id": "z9-fcW3uXfzU"
      },
      "source": [
        "На протяжении всего анализируемого периода отношение средних чеков двух групп значительно меняется, на графике видно сразу несколько резких скачков и один провал. Как и предыдущие графики, данный график наводит на мысли об аномально дорогих заказах, наличие которых мы проверим в дальнейшем. "
      ]
    },
    {
      "cell_type": "markdown",
      "metadata": {
        "id": "nKcIhKCUXfzU"
      },
      "source": [
        "### Построение графика кумулятивного среднего количества заказов на посетителя по группам"
      ]
    },
    {
      "cell_type": "code",
      "execution_count": null,
      "metadata": {
        "id": "y56Si5JRXfzU",
        "outputId": "d1c66e55-34a9-4ced-ac10-8a339316838d"
      },
      "outputs": [
        {
          "data": {
            "image/png": "[encoded data removed]",
            "text/plain": [
              "<Figure size 864x432 with 1 Axes>"
            ]
          },
          "metadata": {
            "needs_background": "light"
          },
          "output_type": "display_data"
        }
      ],
      "source": [
        "#считаю кумулятивное среднее количество заказов на посетителя\n",
        "cumulative_data['avg_orders_per_visitor'] = cumulative_data['orders']/cumulative_data['visitors']\n",
        "# отделяю данные по группам\n",
        "cumulative_data_a = cumulative_data[cumulative_data['group']=='A']\n",
        "cumulative_data_b = cumulative_data[cumulative_data['group']=='B']\n",
        "# строю график\n",
        "plt.figure(figsize=(12, 6))\n",
        "plt.plot(cumulative_data_a['date'], cumulative_data_a['avg_orders_per_visitor'], label='A', color='red')\n",
        "plt.plot(cumulative_data_b['date'], cumulative_data_b['avg_orders_per_visitor'], label='B', color='green')\n",
        "plt.ylabel('Среднее количество заказов на поситителя')\n",
        "plt.grid(True)\n",
        "plt.title('Кумулятивное среднее количество заказов на посетителя по группам')\n",
        "plt.legend();"
      ]
    },
    {
      "cell_type": "markdown",
      "metadata": {
        "id": "XEzHFXeUXfzU"
      },
      "source": [
        "После резкого всплеска среднего количества заказов в группе А в первых числах августа началось стремительное падение этого показателя, после чего можно наблюдать незначительные колебания на протяжении оставшегося времени. По сравнению с группой A, кумулятивное среднее количество заказов на посетителя в группе B показывает намного более позитивные результаты: несмотря на серьезный провал в анализируемом показателе в середине первой недели августа, далее можно наблюдать стремительный рост значений и, хотя скачки роста и падения наблюдаются до конца августа, несомненно показатели у группы B намного лучше, чем у группы A."
      ]
    },
    {
      "cell_type": "markdown",
      "metadata": {
        "id": "O8-zjTMBXfzU"
      },
      "source": [
        "### Построение графика относительного изменения кумулятивного среднего количества заказов на посетителя группы B к группе A"
      ]
    },
    {
      "cell_type": "code",
      "execution_count": null,
      "metadata": {
        "id": "1X_9Br1DXfzU",
        "outputId": "c2d6febd-ed53-444a-ee92-9d07a672245b"
      },
      "outputs": [
        {
          "data": {
            "image/png": "[encoded data removed]",
            "text/plain": [
              "<Figure size 864x432 with 1 Axes>"
            ]
          },
          "metadata": {
            "needs_background": "light"
          },
          "output_type": "display_data"
        }
      ],
      "source": [
        "#строю график\n",
        "merged_cumulative_data = cumulative_data_a[['date','avg_orders_per_visitor']].merge(cumulative_data_b[['date','avg_orders_per_visitor']], left_on='date', right_on='date', how='left', suffixes=['A', 'B'])\n",
        "plt.figure(figsize=(12, 6))\n",
        "plt.plot(merged_cumulative_data['date'], merged_cumulative_data['avg_orders_per_visitorB']/merged_cumulative_data['avg_orders_per_visitorA']-1, label=\"Относительный прирост среднего количества заказов на посетителя группы B относительно группы A\")\n",
        "plt.legend()\n",
        "plt.axhline(y=0, color='black', linestyle='--')\n",
        "plt.axhline(y=-0.1, color='grey', linestyle='--')\n",
        "plt.ylabel('Отношение среднего количества заказов на посетителя группы B к группе A')\n",
        "plt.grid(True)\n",
        "plt.title('Относительное изменение кумулятивного среднего количества заказов на посетителя группы B к группе A');"
      ]
    },
    {
      "cell_type": "markdown",
      "metadata": {
        "id": "-D5jb7OfXfzV"
      },
      "source": [
        "Если в первую неделю августа были заметны колебания, и на некоторое непродолжительное время группа А вырвалась вперед, то начиная со второй недели группа B стабильно лидировала, что и отражено на графике. Таким образом, на протяжении большей части рассматриваемого периода показатель перехода посетителя в покупателя у группы B был значительно выше, чем у группы А."
      ]
    },
    {
      "cell_type": "markdown",
      "metadata": {
        "id": "8eQFwmY1XfzV"
      },
      "source": [
        "### Построение точечного графика количества заказов по пользователям"
      ]
    },
    {
      "cell_type": "code",
      "execution_count": null,
      "metadata": {
        "id": "Th5BIbowXfzV",
        "outputId": "85dcae05-829e-476a-a0d8-478d61b56051"
      },
      "outputs": [
        {
          "data": {
            "text/html": [
              "<div>\n",
              "<style scoped>\n",
              "    .dataframe tbody tr th:only-of-type {\n",
              "        vertical-align: middle;\n",
              "    }\n",
              "\n",
              "    .dataframe tbody tr th {\n",
              "        vertical-align: top;\n",
              "    }\n",
              "\n",
              "    .dataframe thead th {\n",
              "        text-align: right;\n",
              "    }\n",
              "</style>\n",
              "<table border=\"1\" class=\"dataframe\">\n",
              "  <thead>\n",
              "    <tr style=\"text-align: right;\">\n",
              "      <th></th>\n",
              "      <th>user_id</th>\n",
              "      <th>orders</th>\n",
              "    </tr>\n",
              "  </thead>\n",
              "  <tbody>\n",
              "    <tr>\n",
              "      <th>1023</th>\n",
              "      <td>4256040402</td>\n",
              "      <td>11</td>\n",
              "    </tr>\n",
              "    <tr>\n",
              "      <th>591</th>\n",
              "      <td>2458001652</td>\n",
              "      <td>11</td>\n",
              "    </tr>\n",
              "    <tr>\n",
              "      <th>569</th>\n",
              "      <td>2378935119</td>\n",
              "      <td>9</td>\n",
              "    </tr>\n",
              "    <tr>\n",
              "      <th>487</th>\n",
              "      <td>2038680547</td>\n",
              "      <td>8</td>\n",
              "    </tr>\n",
              "    <tr>\n",
              "      <th>44</th>\n",
              "      <td>199603092</td>\n",
              "      <td>5</td>\n",
              "    </tr>\n",
              "    <tr>\n",
              "      <th>744</th>\n",
              "      <td>3062433592</td>\n",
              "      <td>5</td>\n",
              "    </tr>\n",
              "    <tr>\n",
              "      <th>55</th>\n",
              "      <td>237748145</td>\n",
              "      <td>5</td>\n",
              "    </tr>\n",
              "    <tr>\n",
              "      <th>917</th>\n",
              "      <td>3803269165</td>\n",
              "      <td>5</td>\n",
              "    </tr>\n",
              "    <tr>\n",
              "      <th>299</th>\n",
              "      <td>1230306981</td>\n",
              "      <td>5</td>\n",
              "    </tr>\n",
              "    <tr>\n",
              "      <th>897</th>\n",
              "      <td>3717692402</td>\n",
              "      <td>5</td>\n",
              "    </tr>\n",
              "    <tr>\n",
              "      <th>393</th>\n",
              "      <td>1614305549</td>\n",
              "      <td>4</td>\n",
              "    </tr>\n",
              "    <tr>\n",
              "      <th>114</th>\n",
              "      <td>457167155</td>\n",
              "      <td>4</td>\n",
              "    </tr>\n",
              "    <tr>\n",
              "      <th>619</th>\n",
              "      <td>2587333274</td>\n",
              "      <td>4</td>\n",
              "    </tr>\n",
              "    <tr>\n",
              "      <th>340</th>\n",
              "      <td>1404934699</td>\n",
              "      <td>3</td>\n",
              "    </tr>\n",
              "    <tr>\n",
              "      <th>937</th>\n",
              "      <td>3908431265</td>\n",
              "      <td>3</td>\n",
              "    </tr>\n",
              "  </tbody>\n",
              "</table>\n",
              "</div>"
            ],
            "text/plain": [
              "         user_id  orders\n",
              "1023  4256040402      11\n",
              "591   2458001652      11\n",
              "569   2378935119       9\n",
              "487   2038680547       8\n",
              "44     199603092       5\n",
              "744   3062433592       5\n",
              "55     237748145       5\n",
              "917   3803269165       5\n",
              "299   1230306981       5\n",
              "897   3717692402       5\n",
              "393   1614305549       4\n",
              "114    457167155       4\n",
              "619   2587333274       4\n",
              "340   1404934699       3\n",
              "937   3908431265       3"
            ]
          },
          "metadata": {},
          "output_type": "display_data"
        }
      ],
      "source": [
        "#для начала построю таблицу с количеством заказов, совершенных каждым уникальным пользователем\n",
        "orders_by_users = (   \n",
        "    orders.groupby('visitor_id', as_index=False)\n",
        "    .agg({'transaction_id': 'nunique'})\n",
        ")\n",
        "\n",
        "orders_by_users.columns = ['user_id', 'orders']\n",
        "\n",
        "display(orders_by_users.sort_values(by='orders', ascending=False).head(15))"
      ]
    },
    {
      "cell_type": "markdown",
      "metadata": {
        "id": "KjX9KPVsXfzV"
      },
      "source": [
        "Максимальное количество заказов, совершенных одним пользователем, - 11, и всего было два клиента, совершивших за август такое количество заказов. Также один клиент совершил 9 заказов и еще один - 8. "
      ]
    },
    {
      "cell_type": "code",
      "execution_count": null,
      "metadata": {
        "id": "2kXQuVLxXfzV",
        "outputId": "e34e68db-5171-433a-ede6-f0a3c27f7c56"
      },
      "outputs": [
        {
          "data": {
            "image/png": "[encoded data removed]",
            "text/plain": [
              "<Figure size 576x360 with 1 Axes>"
            ]
          },
          "metadata": {
            "needs_background": "light"
          },
          "output_type": "display_data"
        }
      ],
      "source": [
        "#строю график\n",
        "plt.figure(figsize=(8, 5))\n",
        "plt.hist(orders_by_users['orders'])\n",
        "plt.title('Число заказов на одного пользователя');"
      ]
    },
    {
      "cell_type": "markdown",
      "metadata": {
        "id": "Ssyt3Go_XfzV"
      },
      "source": [
        "Абсолютное большинство клиентов сделало только один заказ, но также есть заметное количество покупателей, совершивших от 2 до 4 покупок. Кроме этого, видно небольшое количество людей, совершивших более 4 заказов. "
      ]
    },
    {
      "cell_type": "code",
      "execution_count": null,
      "metadata": {
        "id": "NpLGIgfyXfzV",
        "outputId": "67e2ca65-82c4-4d26-c9e1-5480f0a2e5c9"
      },
      "outputs": [
        {
          "data": {
            "image/png": "[encoded data removed]",
            "text/plain": [
              "<Figure size 576x432 with 1 Axes>"
            ]
          },
          "metadata": {
            "needs_background": "light"
          },
          "output_type": "display_data"
        }
      ],
      "source": [
        "#строю точечную диаграмму числа заказов на одного пользователя\n",
        "plt.figure(figsize=(8, 6))\n",
        "x_values = pd.Series(range(0,len(orders_by_users)))\n",
        "plt.scatter(x_values, orders_by_users['orders'])\n",
        "plt.xlabel('Количество пользователей')\n",
        "plt.ylabel('Количество заказов')\n",
        "plt.title('Число заказов на одного пользователя');"
      ]
    },
    {
      "cell_type": "markdown",
      "metadata": {
        "id": "k8uuTNJpXfzW"
      },
      "source": [
        "На точечной диаграмме также видно, что большинство клиентов совершило 1 заказ, также заметное число пользователей совершило от 2 до 4 заказов. После этого значения количество пользователей существенно сокращается, и мы видим лишь единичные случаи совершения более 4 заказов одним пользователем.  "
      ]
    },
    {
      "cell_type": "markdown",
      "metadata": {
        "id": "mXkhX3bHXfzW"
      },
      "source": [
        "### Расчет 95-ого и 99-ого перцентилей количества заказов на пользователя"
      ]
    },
    {
      "cell_type": "code",
      "execution_count": null,
      "metadata": {
        "id": "NuiqNu53XfzW",
        "outputId": "83c1088d-a8cb-49c5-954c-8c46ec20e326"
      },
      "outputs": [
        {
          "data": {
            "text/plain": [
              "2.0"
            ]
          },
          "metadata": {},
          "output_type": "display_data"
        },
        {
          "data": {
            "text/plain": [
              "4.0"
            ]
          },
          "metadata": {},
          "output_type": "display_data"
        }
      ],
      "source": [
        "#считаю 95-й и 99-й перцентили количества заказов на пользователя\n",
        "orders_percentile_95 = np.percentile(orders_by_users['orders'], 95)\n",
        "orders_percentile_99 = np.percentile(orders_by_users['orders'], 99)\n",
        "display(orders_percentile_95)\n",
        "display(orders_percentile_99)"
      ]
    },
    {
      "cell_type": "markdown",
      "metadata": {
        "id": "_2-KQVkbXfzW"
      },
      "source": [
        "5% пользователей совершило более 2 заказов, и лишь 1% - более 4. Для того, чтобы избежать потери данных и снижения точности результатов тестирования, выберем максимально высокую границу для определения выбросов - 4 заказа, пользователей с большим количеством заказов будем считать аномальными случаями. "
      ]
    },
    {
      "cell_type": "markdown",
      "metadata": {
        "id": "KyEx1ibkXfzW"
      },
      "source": [
        "### Построение точечного графика стоимостей заказов"
      ]
    },
    {
      "cell_type": "code",
      "execution_count": null,
      "metadata": {
        "id": "mwFdbfGeXfzW",
        "outputId": "391589a2-77b2-46f6-9234-1f3e3fbcb480"
      },
      "outputs": [
        {
          "data": {
            "image/png": "[encoded data removed]",
            "text/plain": [
              "<Figure size 576x360 with 1 Axes>"
            ]
          },
          "metadata": {
            "needs_background": "light"
          },
          "output_type": "display_data"
        }
      ],
      "source": [
        "#строю график\n",
        "plt.figure(figsize=(8, 5))\n",
        "x_values = pd.Series(range(0,len(orders['revenue'])))\n",
        "plt.scatter(x_values, orders['revenue'])\n",
        "plt.xlabel('Количество заказов')\n",
        "plt.ylabel('Стоимость заказов (млн.)')\n",
        "plt.title('Стоимость заказов');"
      ]
    },
    {
      "cell_type": "code",
      "execution_count": null,
      "metadata": {
        "id": "I5okpsjUXfzW",
        "outputId": "d4114d97-e2fe-435f-8285-39a50b0e33c8"
      },
      "outputs": [
        {
          "data": {
            "image/png": "[encoded data removed]",
            "text/plain": [
              "<Figure size 576x360 with 1 Axes>"
            ]
          },
          "metadata": {
            "needs_background": "light"
          },
          "output_type": "display_data"
        }
      ],
      "source": [
        "#строю график\n",
        "plt.figure(figsize=(8, 5))\n",
        "x_values = pd.Series(range(0,len(orders['revenue'])))\n",
        "plt.scatter(x_values, orders['revenue'], color='indianred')\n",
        "ax = plt.gca()\n",
        "ax.set_xlim([0,1200])\n",
        "ax.set_ylim([0,100000])\n",
        "plt.xlabel('Количество заказов')\n",
        "plt.ylabel('Стоимость заказов')\n",
        "plt.title('Масштабированный график стоимости заказов');"
      ]
    },
    {
      "cell_type": "markdown",
      "metadata": {
        "id": "uIHkW0MsXfzW"
      },
      "source": [
        "Абсолютное большинство заказов не дороже 50.000 рублей. Есть 2 однозначно аномальных значения, видных на графике, заказы дороже 200.000 и 1.200.000. "
      ]
    },
    {
      "cell_type": "markdown",
      "metadata": {
        "id": "Mha419yiXfzX"
      },
      "source": [
        "### Расчет 95-ого и 99-ого перцентилей стоимости заказов"
      ]
    },
    {
      "cell_type": "code",
      "execution_count": null,
      "metadata": {
        "id": "fGYyNXVtXfzX",
        "outputId": "bf2eb467-835e-41f5-ec1b-628c2f4e1f2e"
      },
      "outputs": [
        {
          "data": {
            "text/plain": [
              "28000.0"
            ]
          },
          "metadata": {},
          "output_type": "display_data"
        },
        {
          "data": {
            "text/plain": [
              "58233.2"
            ]
          },
          "metadata": {},
          "output_type": "display_data"
        }
      ],
      "source": [
        "#считаю 95-й и 99-й перцентили стоимости заказов\n",
        "revenue_percentile_95 = np.percentile(orders['revenue'], 95)\n",
        "revenue_percentile_99 = np.percentile(orders['revenue'], 99)\n",
        "display(revenue_percentile_95.round(1))\n",
        "display(revenue_percentile_99.round(1))"
      ]
    },
    {
      "cell_type": "markdown",
      "metadata": {
        "id": "tCWEFVLnXfzX"
      },
      "source": [
        "5% заказов оказалось дороже 28000 рублей, и 1% покупателей сделали заказ на сумму более 58233.\n",
        "Так же как и в предыдущем случае целесообразным кажется выбор верхней границы по 99-ому перцентилю, поэтому будем считать аномальными заказы дороже 58233."
      ]
    },
    {
      "cell_type": "markdown",
      "metadata": {
        "id": "t6GIPfvJXfzX"
      },
      "source": [
        "### Расчет статистической значимости различий в среднем количестве заказов на посетителя между группами по «сырым» данным"
      ]
    },
    {
      "cell_type": "markdown",
      "metadata": {
        "id": "z_J_Q7UdXfzY"
      },
      "source": [
        "Посчитаем статистическую значимость различий двух параметров между группами по «сырым» и «очищенным» данным: различия в среднем количестве заказов на посетителя и различия в сумме среднего чека. <br>\n",
        "Так как мы выяснили, что в сырых данных имеются выбросы, для расчета статистической значимости различий сравниваемых параметров в данном случае целесообразнее всего использовать непараметрический тест Манна-Уитни, для проведения которого необходимо будет составить два ранжированных списка значений. <br>\n",
        "В каждом случае за нулевую гипотезу принимаем утверждение о том, что различий между сравниваемыми параметрами не имеется, за альтернативную - наличие различий. <br>\n",
        "Определим уровень значимости для гипотезы - 5%, то есть alpha = 0.05."
      ]
    },
    {
      "cell_type": "markdown",
      "metadata": {
        "id": "q4uHj9WkXfzY"
      },
      "source": [
        "H0: Различий в среднем количестве заказов на посетителя между группами по «сырым» данным нет. <br>\n",
        "H1: Различия в среднем количестве заказов на посетителя между группами по «сырым» данным есть."
      ]
    },
    {
      "cell_type": "code",
      "execution_count": null,
      "metadata": {
        "id": "8wVmK5lNXfzY",
        "outputId": "f424e980-ba46-4c0b-ff92-d05ab020d765"
      },
      "outputs": [
        {
          "data": {
            "text/plain": [
              "'p-value: 0.017'"
            ]
          },
          "metadata": {},
          "output_type": "display_data"
        },
        {
          "data": {
            "text/plain": [
              "'Относительный прирост среднего количества заказов на пользователя группы B к группе A: 13.8%'"
            ]
          },
          "metadata": {},
          "output_type": "display_data"
        }
      ],
      "source": [
        "#считаю количество пользователей по дням в каждой из групп \n",
        "visitors_a_daily = visitors[visitors['group'] == 'A'][['date', 'visitors']]\n",
        "visitors_a_daily.columns = ['date', 'visitors_per_date_a']\n",
        "\n",
        "visitors_b_daily = visitors[visitors['group'] == 'B'][['date', 'visitors']]\n",
        "visitors_b_daily.columns = ['date', 'visitors_per_date_b']\n",
        "\n",
        "#считаю количество заказов для каждого пользователя в обеих группах\n",
        "orders_by_users_a = (\n",
        "    orders[orders['group'] == 'A']\n",
        "    .groupby('visitor_id', as_index=False)\n",
        "    .agg({'transaction_id': 'nunique'})\n",
        ")\n",
        "orders_by_users_a.columns = ['visitor_id', 'orders']\n",
        "\n",
        "orders_by_users_b = (\n",
        "    orders[orders['group'] == 'B']\n",
        "    .groupby('visitor_id', as_index=False)\n",
        "    .agg({'transaction_id': 'nunique'})\n",
        ")\n",
        "orders_by_users_b.columns = ['visitor_id', 'orders']\n",
        "\n",
        "#для проведения теста Манна-Уитни создаю таблицы sampleA и sampleB, в каждой из которых пользователям \n",
        "#из проверяемой группы будет соответствовать количество заказов, а в случае отсутствия заказов, будет стоять 0\n",
        "sampleA = pd.concat(\n",
        "    [\n",
        "        orders_by_users_a['orders'],\n",
        "        pd.Series(\n",
        "            0,\n",
        "            index=np.arange(\n",
        "                visitors_a_daily['visitors_per_date_a'].sum() - len(orders_by_users_a['orders'])\n",
        "            ),\n",
        "            name='orders',\n",
        "        ),\n",
        "    ],\n",
        "    axis=0,\n",
        ")\n",
        "\n",
        "sampleB = pd.concat(\n",
        "    [\n",
        "        orders_by_users_b['orders'],\n",
        "        pd.Series(\n",
        "            0,\n",
        "            index=np.arange(\n",
        "                visitors_b_daily['visitors_per_date_b'].sum() - len(orders_by_users_b['orders'])\n",
        "            ),\n",
        "            name='orders',\n",
        "        ),\n",
        "    ],\n",
        "    axis=0,\n",
        ")\n",
        "\n",
        "#проверяю нулевую гипотезу\n",
        "display('p-value: {0:.3f}'.format(stats.mannwhitneyu(sampleA, sampleB)[1]))\n",
        "\n",
        "#считаю относительный прирост среднего количества заказов на пользователя группы B к группе A\n",
        "display('Относительный прирост среднего количества заказов на пользователя группы B к группе A: {0:.1%}'.format(sampleB.mean() / sampleA.mean() - 1))\n"
      ]
    },
    {
      "cell_type": "markdown",
      "metadata": {
        "id": "J5qdQPf5XfzY"
      },
      "source": [
        "Нулевая гипотеза о равенстве среднего количества заказов на пользователя в обеих группах отвергнута, таким образом, подтверждается альтернативная гипотеза, согласно которой различия есть. Прирост среднего количества заказов в группе B относительно группы A составляет 13.8%. Теперь необходимо проверить, как изменятся показания после очистки данных от аномальных значений. "
      ]
    },
    {
      "cell_type": "markdown",
      "metadata": {
        "id": "0koisiWbXfzZ"
      },
      "source": [
        "### Расчет статистической значимости различий в среднем чеке заказа между группами по «сырым» данным"
      ]
    },
    {
      "cell_type": "markdown",
      "metadata": {
        "id": "lmllRIkzXfzZ"
      },
      "source": [
        "H0: Различий в среднем чеке заказа между группами по «сырым» данным нет. <br>\n",
        "H1: Различия в среднем чеке заказа между группами по «сырым» данным есть."
      ]
    },
    {
      "cell_type": "code",
      "execution_count": null,
      "metadata": {
        "id": "8Q_9MM0OXfzZ",
        "outputId": "20e642b7-d353-4cd8-8910-c15a958a32ff"
      },
      "outputs": [
        {
          "data": {
            "text/plain": [
              "'p-value: 0.729'"
            ]
          },
          "metadata": {},
          "output_type": "display_data"
        },
        {
          "data": {
            "text/plain": [
              "'Относительный прирост суммы среднего чека группы B к группе A: 25.9%'"
            ]
          },
          "metadata": {},
          "output_type": "display_data"
        }
      ],
      "source": [
        "display('p-value: {0:.3f}'.format(stats.mannwhitneyu(orders[orders['group']=='A']['revenue'], orders[orders['group']=='B']['revenue'])[1]))\n",
        "display('Относительный прирост суммы среднего чека группы B к группе A: {0:.1%}'.format(orders[orders['group']=='B']['revenue'].mean()/orders[orders['group']=='A']['revenue'].mean()-1))"
      ]
    },
    {
      "cell_type": "markdown",
      "metadata": {
        "id": "oACz8U6VXfzZ"
      },
      "source": [
        "В результате проверки по «сырым» данным нулевая гипотеза не может быть отвергнута, соответственно статистически значимого различия в среднем чеке заказа между группами не обнаружено. При этом относительный прирост суммы среднего чека группы B к группе A: 25.9%, то есть по «сырым» данным средний чек группы B значительно выше среднего чека группы A."
      ]
    },
    {
      "cell_type": "markdown",
      "metadata": {
        "id": "Kfz4sXwyXfzZ"
      },
      "source": [
        "### Расчет статистической значимости различий в среднем количестве заказов на посетителя между группами по «очищенным» данным"
      ]
    },
    {
      "cell_type": "markdown",
      "metadata": {
        "id": "RU3NHEApXfzZ"
      },
      "source": [
        "Теперь перейдем к проверке очищенных от выбросов данных. Для начала узнаем количество пользователей с аномально большим количеством и суммой заказов."
      ]
    },
    {
      "cell_type": "code",
      "execution_count": null,
      "metadata": {
        "id": "W3F6xMtKXfzZ",
        "outputId": "05605240-f8e6-421e-8fd2-8a8730154894"
      },
      "outputs": [
        {
          "data": {
            "text/plain": [
              "15"
            ]
          },
          "metadata": {},
          "output_type": "display_data"
        }
      ],
      "source": [
        "#вычисляю количество пользователей с аномальными показателями\n",
        "abnormal_num_of_orders = pd.concat(\n",
        "    [\n",
        "        orders_by_users_a[orders_by_users_a['orders'] > orders_percentile_99]['visitor_id'],\n",
        "        orders_by_users_b[orders_by_users_b['orders'] > orders_percentile_99]['visitor_id'],\n",
        "    ],\n",
        "    axis=0,\n",
        ")\n",
        "abnormal_sum_of_orders = orders[orders['revenue'] > revenue_percentile_99]['visitor_id']\n",
        "abnormal_visitors = (\n",
        "    pd.concat([abnormal_num_of_orders, abnormal_sum_of_orders], axis=0)\n",
        "    .drop_duplicates()\n",
        "    .sort_values()\n",
        ")\n",
        "display(abnormal_visitors.shape[0])"
      ]
    },
    {
      "cell_type": "markdown",
      "metadata": {
        "id": "09nG07pKXfza"
      },
      "source": [
        "Получается, что в наших данных есть 15 пользователей с аномальными показателями. Проверим, как их данные влияли на результаты расчетов. "
      ]
    },
    {
      "cell_type": "markdown",
      "metadata": {
        "id": "93BJV3MyXfza"
      },
      "source": [
        "H0: Различий в среднем количестве заказов на посетителя между группами по «очищенным» данным нет. <br>\n",
        "H1: Различия в среднем количестве заказов на посетителя между группами по «очищенным» данным есть."
      ]
    },
    {
      "cell_type": "code",
      "execution_count": null,
      "metadata": {
        "id": "Xnnxq-aEXfza",
        "outputId": "c190a780-bc54-4a99-eb99-ce4092bb3b5d"
      },
      "outputs": [
        {
          "data": {
            "text/plain": [
              "'p-value: 0.014'"
            ]
          },
          "metadata": {},
          "output_type": "display_data"
        },
        {
          "data": {
            "text/plain": [
              "'Относительный прирост среднего количества заказов на пользователя группы B к группе A: 15.3%'"
            ]
          },
          "metadata": {},
          "output_type": "display_data"
        }
      ],
      "source": [
        "#очищаю данные\n",
        "sample_a_filtered = pd.concat(\n",
        "    [\n",
        "        orders_by_users_a[\n",
        "            np.logical_not(orders_by_users_a['visitor_id'].isin(abnormal_visitors))\n",
        "        ]['orders'],\n",
        "        pd.Series(\n",
        "            0,\n",
        "            index=np.arange(\n",
        "                visitors_a_daily['visitors_per_date_a'].sum() - len(orders_by_users_a['orders'])\n",
        "            ),\n",
        "            name='orders',\n",
        "        ),\n",
        "    ],\n",
        "    axis=0,\n",
        ")\n",
        "\n",
        "sample_b_filtered = pd.concat(\n",
        "    [\n",
        "        orders_by_users_b[\n",
        "            np.logical_not(orders_by_users_b['visitor_id'].isin(abnormal_visitors))\n",
        "        ]['orders'],\n",
        "        pd.Series(\n",
        "            0,\n",
        "            index=np.arange(\n",
        "                visitors_b_daily['visitors_per_date_b'].sum() - len(orders_by_users_b['orders'])\n",
        "            ),\n",
        "            name='orders',\n",
        "        ),\n",
        "    ],\n",
        "    axis=0,\n",
        ")\n",
        "\n",
        "display('p-value: {0:.3f}'.format(stats.mannwhitneyu(sample_a_filtered, sample_b_filtered)[1]))\n",
        "display('Относительный прирост среднего количества заказов на пользователя группы B к группе A: {0:.1%}'.format(sample_b_filtered.mean()/sample_a_filtered.mean()-1))"
      ]
    },
    {
      "cell_type": "markdown",
      "metadata": {
        "id": "9MyV7KhDXfza"
      },
      "source": [
        "Как и в случае с «сырыми» данным, в результате проверки по «очищенным» данным нулевая гипотеза, согласно которой различий в среднем количестве заказов на посетителя между группами нет, отвергнута. Относительный прирост среднего количества заказов на пользователя группы B к группе A после очистки данных от аномалий даже увеличился на полтора процента, что позволяет сделать вывод о том, что выбросы в большем количестве пришлись на группу A. "
      ]
    },
    {
      "cell_type": "markdown",
      "metadata": {
        "id": "DD6tlg0gXfza"
      },
      "source": [
        "### Расчет статистической значимости различий в среднем чеке заказа между группами по «очищенным» данным"
      ]
    },
    {
      "cell_type": "markdown",
      "metadata": {
        "id": "rLvRPplxXfza"
      },
      "source": [
        "H0: Различий в среднем чеке заказа между группами по «очищенным» данным нет. <br>\n",
        "H1: Различия в среднем чеке заказа между группами по «очищенным» данным есть."
      ]
    },
    {
      "cell_type": "code",
      "execution_count": null,
      "metadata": {
        "id": "b5nzlzIaXfza",
        "outputId": "342b4a5d-6ee3-4024-f8dc-0a8a07af41d2"
      },
      "outputs": [
        {
          "data": {
            "text/plain": [
              "'p-value: 0.851'"
            ]
          },
          "metadata": {},
          "output_type": "display_data"
        },
        {
          "data": {
            "text/plain": [
              "'Относительный прирост суммы среднего чека группы B к группе A: -0.6%'"
            ]
          },
          "metadata": {},
          "output_type": "display_data"
        }
      ],
      "source": [
        "display('p-value: {0:.3f}'.format(stats.mannwhitneyu(orders[np.logical_and(orders['group'] == 'A', \\\n",
        "                  np.logical_not(orders['visitor_id'].isin(abnormal_visitors)),)]['revenue'], \\\n",
        "                  orders[np.logical_and(orders['group'] == 'B', \\\n",
        "                  np.logical_not(orders['visitor_id'].isin(abnormal_visitors)),)]['revenue'],)[1]))\n",
        "\n",
        "display('Относительный прирост суммы среднего чека группы B к группе A: {0:.1%}'.format(orders[np.logical_and(orders['group'] == 'B', \\\n",
        "                  np.logical_not(orders['visitor_id'].isin(abnormal_visitors)),)]['revenue'].mean() / orders[np.logical_and(orders['group'] == 'A', \\\n",
        "                  np.logical_not(orders['visitor_id'].isin(abnormal_visitors)),)]['revenue'].mean() - 1))"
      ]
    },
    {
      "cell_type": "markdown",
      "metadata": {
        "id": "eOg6Qho5Xfza"
      },
      "source": [
        "Проверка статистической значимости различий в среднем чеке заказа между группами по «очищенным» данным, так же как и по «сырым» данным, показала, что статистически значимых различий между средними чеками обеих групп нет, нулевая гипотеза отвергнута. Однако, в отличие от результатов расчетов по «сырым» данным, в данном случае относительный прирост суммы среднего чека группы B к группе A не просто снизился, а даже достиг хоть и небольшого, но отрицательного значения, что позволяет сделать вывод о значительном количестве аномалий, повлиявших на сумму среднего чека, именно в группе B."
      ]
    },
    {
      "cell_type": "markdown",
      "metadata": {
        "id": "722kev0DXfzb"
      },
      "source": [
        "### Принятие решения по результатам теста "
      ]
    },
    {
      "cell_type": "markdown",
      "metadata": {
        "id": "23W2C8eNXfzb"
      },
      "source": [
        "В первой части исследования была проведена приоритизация гипотез с помощью фреймворков ICE и RICE. В результате 2 гипотезы вошли в оба топ-3: гипотеза №1 (Добавить два новых канала привлечения трафика, что позволит привлекать на 30% больше пользователей) и гипотеза №8 (Добавить форму подписки на все основные страницы, чтобы собрать базу клиентов для email-рассылок). Эти гипотезы представляются наиболее перспективными и приоритетными для дальнейшей работы с ними. <br>\n",
        "\n",
        "В результате проверки статистической значимости различий между группами в среднем количестве заказов на посетителя и в среднем чеке заказа при использовании сначала «сырых», а затем «очищенных» данных, были сделаны следующие выводы:<br> \n",
        "    1.  Есть статистическое различие в среднем количестве заказов на посетителя с однозначным преимуществом у группы B.<br>\n",
        "    2. Не найдено статистического различия в сумме среднего чека каждой из групп. <br>\n",
        "    \n",
        "**Так как целью данного исследования является увеличение выручки интернет-магазина, целесообразно остановить тест и признать победу группы B по показателю среднего количества заказов на посетителя.**\n",
        "\n",
        "*Отдельно стоит отметить, что в рамках данного исследования были использованы данные, включающие 58 пользователей, входящих в обе группы, что могло исказить результаты расчетов.*"
      ]
    }
  ],
  "metadata": {
    "ExecuteTimeLog": [
      {
        "duration": 379,
        "start_time": "2023-01-25T08:25:20.262Z"
      },
      {
        "duration": 55,
        "start_time": "2023-01-25T08:26:05.708Z"
      },
      {
        "duration": 58,
        "start_time": "2023-01-25T08:26:11.175Z"
      },
      {
        "duration": 13,
        "start_time": "2023-01-25T08:26:12.971Z"
      },
      {
        "duration": 8,
        "start_time": "2023-01-25T08:26:55.248Z"
      },
      {
        "duration": 22,
        "start_time": "2023-01-25T08:26:58.779Z"
      },
      {
        "duration": 7,
        "start_time": "2023-01-25T08:27:00.792Z"
      },
      {
        "duration": 211,
        "start_time": "2023-01-25T08:39:14.236Z"
      },
      {
        "duration": 26,
        "start_time": "2023-01-25T08:39:39.435Z"
      },
      {
        "duration": 9,
        "start_time": "2023-01-25T08:47:26.246Z"
      },
      {
        "duration": 5,
        "start_time": "2023-01-25T08:49:26.752Z"
      },
      {
        "duration": 10,
        "start_time": "2023-01-25T08:49:35.999Z"
      },
      {
        "duration": 13,
        "start_time": "2023-01-25T08:50:44.144Z"
      },
      {
        "duration": 11,
        "start_time": "2023-01-25T08:51:12.536Z"
      },
      {
        "duration": 345,
        "start_time": "2023-01-25T09:01:03.440Z"
      },
      {
        "duration": 62,
        "start_time": "2023-01-25T09:01:03.787Z"
      },
      {
        "duration": 15,
        "start_time": "2023-01-25T09:01:03.850Z"
      },
      {
        "duration": 105,
        "start_time": "2023-01-25T09:01:03.867Z"
      },
      {
        "duration": 0,
        "start_time": "2023-01-25T09:01:03.973Z"
      },
      {
        "duration": 8,
        "start_time": "2023-01-25T09:01:18.996Z"
      },
      {
        "duration": 12,
        "start_time": "2023-01-25T09:01:44.112Z"
      },
      {
        "duration": 383,
        "start_time": "2023-01-25T09:01:54.232Z"
      },
      {
        "duration": 64,
        "start_time": "2023-01-25T09:01:54.618Z"
      },
      {
        "duration": 23,
        "start_time": "2023-01-25T09:01:54.683Z"
      },
      {
        "duration": 16,
        "start_time": "2023-01-25T09:01:54.708Z"
      },
      {
        "duration": 12,
        "start_time": "2023-01-25T09:02:46.908Z"
      },
      {
        "duration": 411,
        "start_time": "2023-01-26T07:07:48.032Z"
      },
      {
        "duration": 231,
        "start_time": "2023-01-26T07:07:48.445Z"
      },
      {
        "duration": 25,
        "start_time": "2023-01-26T07:07:48.678Z"
      },
      {
        "duration": 14,
        "start_time": "2023-01-26T07:07:48.705Z"
      },
      {
        "duration": 28,
        "start_time": "2023-01-26T07:07:48.720Z"
      },
      {
        "duration": 409,
        "start_time": "2023-01-26T07:08:01.451Z"
      },
      {
        "duration": 67,
        "start_time": "2023-01-26T07:08:01.861Z"
      },
      {
        "duration": 17,
        "start_time": "2023-01-26T07:08:01.930Z"
      },
      {
        "duration": 24,
        "start_time": "2023-01-26T07:08:01.949Z"
      },
      {
        "duration": 38,
        "start_time": "2023-01-26T07:08:01.976Z"
      },
      {
        "duration": 408,
        "start_time": "2023-01-26T07:27:37.922Z"
      },
      {
        "duration": 71,
        "start_time": "2023-01-26T07:27:38.332Z"
      },
      {
        "duration": 22,
        "start_time": "2023-01-26T07:27:38.405Z"
      },
      {
        "duration": 13,
        "start_time": "2023-01-26T07:27:38.428Z"
      },
      {
        "duration": 3,
        "start_time": "2023-01-26T07:27:38.443Z"
      },
      {
        "duration": 54,
        "start_time": "2023-01-26T07:27:38.447Z"
      },
      {
        "duration": 457,
        "start_time": "2023-01-26T07:28:06.385Z"
      },
      {
        "duration": 67,
        "start_time": "2023-01-26T07:28:06.844Z"
      },
      {
        "duration": 25,
        "start_time": "2023-01-26T07:28:06.913Z"
      },
      {
        "duration": 12,
        "start_time": "2023-01-26T07:28:06.939Z"
      },
      {
        "duration": 6,
        "start_time": "2023-01-26T07:28:06.953Z"
      },
      {
        "duration": 4,
        "start_time": "2023-01-26T07:28:06.961Z"
      },
      {
        "duration": 19,
        "start_time": "2023-01-26T07:29:15.934Z"
      },
      {
        "duration": 355,
        "start_time": "2023-01-26T07:30:06.449Z"
      },
      {
        "duration": 352,
        "start_time": "2023-01-26T07:30:06.807Z"
      },
      {
        "duration": 0,
        "start_time": "2023-01-26T07:30:07.161Z"
      },
      {
        "duration": 0,
        "start_time": "2023-01-26T07:30:07.162Z"
      },
      {
        "duration": 0,
        "start_time": "2023-01-26T07:30:07.163Z"
      },
      {
        "duration": 0,
        "start_time": "2023-01-26T07:30:07.164Z"
      },
      {
        "duration": 378,
        "start_time": "2023-01-26T07:30:41.629Z"
      },
      {
        "duration": 351,
        "start_time": "2023-01-26T07:30:42.009Z"
      },
      {
        "duration": 0,
        "start_time": "2023-01-26T07:30:42.362Z"
      },
      {
        "duration": 0,
        "start_time": "2023-01-26T07:30:42.363Z"
      },
      {
        "duration": 0,
        "start_time": "2023-01-26T07:30:42.364Z"
      },
      {
        "duration": 0,
        "start_time": "2023-01-26T07:30:42.366Z"
      },
      {
        "duration": 403,
        "start_time": "2023-01-26T07:31:47.571Z"
      },
      {
        "duration": 309,
        "start_time": "2023-01-26T07:31:47.976Z"
      },
      {
        "duration": 0,
        "start_time": "2023-01-26T07:31:48.287Z"
      },
      {
        "duration": 0,
        "start_time": "2023-01-26T07:31:48.288Z"
      },
      {
        "duration": 0,
        "start_time": "2023-01-26T07:31:48.290Z"
      },
      {
        "duration": 0,
        "start_time": "2023-01-26T07:31:48.291Z"
      },
      {
        "duration": 785,
        "start_time": "2023-01-26T07:32:42.182Z"
      },
      {
        "duration": 308,
        "start_time": "2023-01-26T07:32:42.969Z"
      },
      {
        "duration": 0,
        "start_time": "2023-01-26T07:32:43.279Z"
      },
      {
        "duration": 0,
        "start_time": "2023-01-26T07:32:43.280Z"
      },
      {
        "duration": 0,
        "start_time": "2023-01-26T07:32:43.281Z"
      },
      {
        "duration": 0,
        "start_time": "2023-01-26T07:32:43.282Z"
      },
      {
        "duration": 63,
        "start_time": "2023-01-26T07:32:56.877Z"
      },
      {
        "duration": 77,
        "start_time": "2023-01-26T07:33:15.611Z"
      },
      {
        "duration": 710,
        "start_time": "2023-01-26T07:36:54.677Z"
      },
      {
        "duration": 78,
        "start_time": "2023-01-26T07:36:55.389Z"
      },
      {
        "duration": 15,
        "start_time": "2023-01-26T07:36:55.469Z"
      },
      {
        "duration": 34,
        "start_time": "2023-01-26T07:36:55.486Z"
      },
      {
        "duration": 58,
        "start_time": "2023-01-26T07:36:55.523Z"
      },
      {
        "duration": 60,
        "start_time": "2023-01-26T07:36:55.583Z"
      },
      {
        "duration": 63,
        "start_time": "2023-01-26T07:37:45.845Z"
      },
      {
        "duration": 30,
        "start_time": "2023-01-26T07:38:45.898Z"
      },
      {
        "duration": 79,
        "start_time": "2023-01-26T07:40:46.672Z"
      },
      {
        "duration": 6,
        "start_time": "2023-01-26T07:41:06.058Z"
      },
      {
        "duration": 49,
        "start_time": "2023-01-26T07:41:23.998Z"
      },
      {
        "duration": 32,
        "start_time": "2023-01-26T07:41:46.993Z"
      },
      {
        "duration": 10,
        "start_time": "2023-01-26T07:42:11.206Z"
      },
      {
        "duration": 613,
        "start_time": "2023-01-26T07:42:27.557Z"
      },
      {
        "duration": 65,
        "start_time": "2023-01-26T07:42:28.173Z"
      },
      {
        "duration": 30,
        "start_time": "2023-01-26T07:42:28.240Z"
      },
      {
        "duration": 6,
        "start_time": "2023-01-26T07:42:28.271Z"
      },
      {
        "duration": 15,
        "start_time": "2023-01-26T07:42:28.280Z"
      },
      {
        "duration": 13,
        "start_time": "2023-01-26T07:42:28.297Z"
      },
      {
        "duration": 9,
        "start_time": "2023-01-26T07:42:28.312Z"
      },
      {
        "duration": 34,
        "start_time": "2023-01-26T07:42:28.323Z"
      },
      {
        "duration": 628,
        "start_time": "2023-01-26T07:43:29.738Z"
      },
      {
        "duration": 97,
        "start_time": "2023-01-26T07:43:30.369Z"
      },
      {
        "duration": 16,
        "start_time": "2023-01-26T07:43:30.468Z"
      },
      {
        "duration": 42,
        "start_time": "2023-01-26T07:43:30.486Z"
      },
      {
        "duration": 51,
        "start_time": "2023-01-26T07:43:30.531Z"
      },
      {
        "duration": 127,
        "start_time": "2023-01-26T07:43:30.584Z"
      },
      {
        "duration": 17,
        "start_time": "2023-01-26T07:43:30.713Z"
      },
      {
        "duration": 49,
        "start_time": "2023-01-26T07:43:30.732Z"
      },
      {
        "duration": 3,
        "start_time": "2023-01-26T07:49:01.658Z"
      },
      {
        "duration": 13,
        "start_time": "2023-01-26T07:49:14.946Z"
      },
      {
        "duration": 28,
        "start_time": "2023-01-26T07:49:34.590Z"
      },
      {
        "duration": 617,
        "start_time": "2023-01-26T07:51:00.169Z"
      },
      {
        "duration": 66,
        "start_time": "2023-01-26T07:51:00.788Z"
      },
      {
        "duration": 17,
        "start_time": "2023-01-26T07:51:00.855Z"
      },
      {
        "duration": 42,
        "start_time": "2023-01-26T07:51:00.874Z"
      },
      {
        "duration": 31,
        "start_time": "2023-01-26T07:51:00.919Z"
      },
      {
        "duration": 42,
        "start_time": "2023-01-26T07:51:00.951Z"
      },
      {
        "duration": 29,
        "start_time": "2023-01-26T07:51:00.995Z"
      },
      {
        "duration": 22,
        "start_time": "2023-01-26T07:51:01.026Z"
      },
      {
        "duration": 90,
        "start_time": "2023-01-26T07:53:26.737Z"
      },
      {
        "duration": 43,
        "start_time": "2023-01-26T07:54:34.196Z"
      },
      {
        "duration": 608,
        "start_time": "2023-01-26T07:55:31.437Z"
      },
      {
        "duration": 577,
        "start_time": "2023-01-26T07:55:40.309Z"
      },
      {
        "duration": 257,
        "start_time": "2023-01-26T07:58:01.107Z"
      },
      {
        "duration": 564,
        "start_time": "2023-01-26T07:58:18.176Z"
      },
      {
        "duration": 4,
        "start_time": "2023-01-26T08:02:57.635Z"
      },
      {
        "duration": 7,
        "start_time": "2023-01-26T08:03:05.798Z"
      },
      {
        "duration": 211,
        "start_time": "2023-01-26T08:04:32.269Z"
      },
      {
        "duration": 205,
        "start_time": "2023-01-26T08:04:41.793Z"
      },
      {
        "duration": 199,
        "start_time": "2023-01-26T08:05:06.952Z"
      },
      {
        "duration": 245,
        "start_time": "2023-01-26T08:05:16.767Z"
      },
      {
        "duration": 141,
        "start_time": "2023-01-26T08:06:26.019Z"
      },
      {
        "duration": 132,
        "start_time": "2023-01-26T08:09:23.133Z"
      },
      {
        "duration": 135,
        "start_time": "2023-01-26T08:10:15.535Z"
      },
      {
        "duration": 168,
        "start_time": "2023-01-26T08:10:24.263Z"
      },
      {
        "duration": 155,
        "start_time": "2023-01-26T09:58:04.140Z"
      },
      {
        "duration": 5,
        "start_time": "2023-01-26T09:58:59.598Z"
      },
      {
        "duration": 630,
        "start_time": "2023-01-26T10:56:30.086Z"
      },
      {
        "duration": 66,
        "start_time": "2023-01-26T10:56:30.719Z"
      },
      {
        "duration": 17,
        "start_time": "2023-01-26T10:56:30.787Z"
      },
      {
        "duration": 27,
        "start_time": "2023-01-26T10:56:30.806Z"
      },
      {
        "duration": 27,
        "start_time": "2023-01-26T10:56:30.835Z"
      },
      {
        "duration": 38,
        "start_time": "2023-01-26T10:56:30.865Z"
      },
      {
        "duration": 12,
        "start_time": "2023-01-26T10:56:30.905Z"
      },
      {
        "duration": 39,
        "start_time": "2023-01-26T10:56:30.919Z"
      },
      {
        "duration": 557,
        "start_time": "2023-01-26T10:56:30.959Z"
      },
      {
        "duration": 245,
        "start_time": "2023-01-26T10:56:31.517Z"
      },
      {
        "duration": 129,
        "start_time": "2023-01-26T10:56:31.764Z"
      },
      {
        "duration": 140,
        "start_time": "2023-01-26T10:56:31.898Z"
      },
      {
        "duration": 6,
        "start_time": "2023-01-26T10:56:32.040Z"
      },
      {
        "duration": 97,
        "start_time": "2023-01-26T10:56:32.049Z"
      },
      {
        "duration": 10,
        "start_time": "2023-01-26T10:57:07.431Z"
      },
      {
        "duration": 156,
        "start_time": "2023-01-26T10:57:25.926Z"
      },
      {
        "duration": 3,
        "start_time": "2023-01-26T11:00:32.125Z"
      },
      {
        "duration": 112,
        "start_time": "2023-01-26T11:01:21.543Z"
      },
      {
        "duration": 114,
        "start_time": "2023-01-26T11:01:28.906Z"
      },
      {
        "duration": 125,
        "start_time": "2023-01-26T11:01:36.243Z"
      },
      {
        "duration": 129,
        "start_time": "2023-01-26T11:01:44.118Z"
      },
      {
        "duration": 126,
        "start_time": "2023-01-26T11:01:49.547Z"
      },
      {
        "duration": 159,
        "start_time": "2023-01-26T11:01:54.702Z"
      },
      {
        "duration": 4,
        "start_time": "2023-01-26T11:02:17.791Z"
      },
      {
        "duration": 5,
        "start_time": "2023-01-26T11:02:33.209Z"
      },
      {
        "duration": 3,
        "start_time": "2023-01-26T11:10:50.794Z"
      },
      {
        "duration": 192,
        "start_time": "2023-01-26T11:36:34.385Z"
      },
      {
        "duration": 263,
        "start_time": "2023-01-26T11:37:12.130Z"
      },
      {
        "duration": 203,
        "start_time": "2023-01-26T11:38:06.484Z"
      },
      {
        "duration": 304,
        "start_time": "2023-01-26T11:38:27.005Z"
      },
      {
        "duration": 183,
        "start_time": "2023-01-26T11:39:09.720Z"
      },
      {
        "duration": 242,
        "start_time": "2023-01-26T11:39:20.303Z"
      },
      {
        "duration": 340,
        "start_time": "2023-01-26T11:39:42.174Z"
      },
      {
        "duration": 303,
        "start_time": "2023-01-26T11:39:49.802Z"
      },
      {
        "duration": 10,
        "start_time": "2023-01-26T11:43:35.418Z"
      },
      {
        "duration": 11,
        "start_time": "2023-01-26T11:43:41.994Z"
      },
      {
        "duration": 100,
        "start_time": "2023-01-26T11:44:27.432Z"
      },
      {
        "duration": 111,
        "start_time": "2023-01-26T11:44:37.872Z"
      },
      {
        "duration": 95,
        "start_time": "2023-01-26T11:44:43.537Z"
      },
      {
        "duration": 102,
        "start_time": "2023-01-26T11:45:02.634Z"
      },
      {
        "duration": 5,
        "start_time": "2023-01-26T11:47:20.902Z"
      },
      {
        "duration": 142,
        "start_time": "2023-01-26T11:48:24.906Z"
      },
      {
        "duration": 120,
        "start_time": "2023-01-26T11:48:36.425Z"
      },
      {
        "duration": 206,
        "start_time": "2023-01-26T11:48:44.400Z"
      },
      {
        "duration": 5,
        "start_time": "2023-01-26T11:49:24.638Z"
      },
      {
        "duration": 4,
        "start_time": "2023-01-26T11:49:29.630Z"
      },
      {
        "duration": 1102,
        "start_time": "2023-01-26T11:52:26.081Z"
      },
      {
        "duration": 70,
        "start_time": "2023-01-26T11:52:27.187Z"
      },
      {
        "duration": 16,
        "start_time": "2023-01-26T11:52:27.259Z"
      },
      {
        "duration": 12,
        "start_time": "2023-01-26T11:52:27.278Z"
      },
      {
        "duration": 15,
        "start_time": "2023-01-26T11:52:27.291Z"
      },
      {
        "duration": 23,
        "start_time": "2023-01-26T11:52:27.308Z"
      },
      {
        "duration": 5,
        "start_time": "2023-01-26T11:52:27.333Z"
      },
      {
        "duration": 7,
        "start_time": "2023-01-26T11:52:27.340Z"
      },
      {
        "duration": 524,
        "start_time": "2023-01-26T11:52:27.348Z"
      },
      {
        "duration": 251,
        "start_time": "2023-01-26T11:52:27.874Z"
      },
      {
        "duration": 174,
        "start_time": "2023-01-26T11:52:28.126Z"
      },
      {
        "duration": 269,
        "start_time": "2023-01-26T11:52:28.302Z"
      },
      {
        "duration": 204,
        "start_time": "2023-01-26T11:52:28.573Z"
      },
      {
        "duration": 321,
        "start_time": "2023-01-26T11:52:28.779Z"
      },
      {
        "duration": 10,
        "start_time": "2023-01-26T11:52:29.102Z"
      },
      {
        "duration": 111,
        "start_time": "2023-01-26T11:52:29.114Z"
      },
      {
        "duration": 123,
        "start_time": "2023-01-26T11:52:29.226Z"
      },
      {
        "duration": 5,
        "start_time": "2023-01-26T11:52:29.351Z"
      },
      {
        "duration": 142,
        "start_time": "2023-01-26T11:52:29.357Z"
      },
      {
        "duration": 4,
        "start_time": "2023-01-26T11:52:29.500Z"
      },
      {
        "duration": 278,
        "start_time": "2023-01-26T11:53:25.252Z"
      },
      {
        "duration": 209,
        "start_time": "2023-01-26T11:54:40.592Z"
      },
      {
        "duration": 202,
        "start_time": "2023-01-26T11:54:48.641Z"
      },
      {
        "duration": 211,
        "start_time": "2023-01-26T11:55:05.842Z"
      },
      {
        "duration": 130,
        "start_time": "2023-01-26T11:57:16.773Z"
      },
      {
        "duration": 8,
        "start_time": "2023-01-26T11:57:44.600Z"
      },
      {
        "duration": 7,
        "start_time": "2023-01-26T11:58:08.458Z"
      },
      {
        "duration": 8,
        "start_time": "2023-01-26T11:58:30.452Z"
      },
      {
        "duration": 169,
        "start_time": "2023-01-26T12:07:16.481Z"
      },
      {
        "duration": 1111,
        "start_time": "2023-01-27T10:52:11.375Z"
      },
      {
        "duration": 168,
        "start_time": "2023-01-27T10:52:14.387Z"
      },
      {
        "duration": 15,
        "start_time": "2023-01-27T10:52:17.578Z"
      },
      {
        "duration": 14,
        "start_time": "2023-01-27T10:52:22.424Z"
      },
      {
        "duration": 3,
        "start_time": "2023-01-27T10:52:30.729Z"
      },
      {
        "duration": 20,
        "start_time": "2023-01-27T10:52:32.261Z"
      },
      {
        "duration": 5,
        "start_time": "2023-01-27T10:52:35.079Z"
      },
      {
        "duration": 247,
        "start_time": "2023-01-27T10:52:37.346Z"
      },
      {
        "duration": 251,
        "start_time": "2023-01-27T10:52:59.538Z"
      },
      {
        "duration": 244,
        "start_time": "2023-01-27T10:53:52.982Z"
      },
      {
        "duration": 243,
        "start_time": "2023-01-27T10:56:26.755Z"
      },
      {
        "duration": 45,
        "start_time": "2023-01-27T10:56:40.146Z"
      },
      {
        "duration": 147,
        "start_time": "2023-01-27T10:58:17.110Z"
      },
      {
        "duration": 154,
        "start_time": "2023-01-27T10:58:22.571Z"
      },
      {
        "duration": 212,
        "start_time": "2023-01-27T10:59:20.146Z"
      },
      {
        "duration": 163,
        "start_time": "2023-01-27T10:59:28.270Z"
      },
      {
        "duration": 206,
        "start_time": "2023-01-27T11:00:02.753Z"
      },
      {
        "duration": 135,
        "start_time": "2023-01-27T11:00:20.005Z"
      },
      {
        "duration": 141,
        "start_time": "2023-01-27T11:00:28.070Z"
      },
      {
        "duration": 202,
        "start_time": "2023-01-27T11:00:36.260Z"
      },
      {
        "duration": 136,
        "start_time": "2023-01-27T11:00:40.601Z"
      },
      {
        "duration": 133,
        "start_time": "2023-01-27T11:00:54.777Z"
      },
      {
        "duration": 163,
        "start_time": "2023-01-27T11:06:11.185Z"
      },
      {
        "duration": 122,
        "start_time": "2023-01-27T11:06:40.416Z"
      },
      {
        "duration": 152,
        "start_time": "2023-01-27T11:06:50.566Z"
      },
      {
        "duration": 156,
        "start_time": "2023-01-27T11:07:31.103Z"
      },
      {
        "duration": 163,
        "start_time": "2023-01-27T11:07:36.582Z"
      },
      {
        "duration": 135,
        "start_time": "2023-01-27T11:07:42.775Z"
      },
      {
        "duration": 182,
        "start_time": "2023-01-27T11:07:49.191Z"
      },
      {
        "duration": 171,
        "start_time": "2023-01-27T11:07:56.324Z"
      },
      {
        "duration": 157,
        "start_time": "2023-01-27T11:08:16.776Z"
      },
      {
        "duration": 158,
        "start_time": "2023-01-27T11:08:20.675Z"
      },
      {
        "duration": 240,
        "start_time": "2023-01-27T11:08:27.904Z"
      },
      {
        "duration": 160,
        "start_time": "2023-01-27T11:08:32.853Z"
      },
      {
        "duration": 179,
        "start_time": "2023-01-27T11:11:06.097Z"
      },
      {
        "duration": 207,
        "start_time": "2023-01-27T11:11:17.321Z"
      },
      {
        "duration": 167,
        "start_time": "2023-01-27T11:11:58.947Z"
      },
      {
        "duration": 206,
        "start_time": "2023-01-27T11:20:12.302Z"
      },
      {
        "duration": 167,
        "start_time": "2023-01-27T11:22:30.503Z"
      },
      {
        "duration": 166,
        "start_time": "2023-01-27T11:22:35.632Z"
      },
      {
        "duration": 143,
        "start_time": "2023-01-27T11:28:50.686Z"
      },
      {
        "duration": 159,
        "start_time": "2023-01-27T11:28:59.238Z"
      },
      {
        "duration": 147,
        "start_time": "2023-01-27T11:29:17.723Z"
      },
      {
        "duration": 244,
        "start_time": "2023-01-27T11:29:26.054Z"
      },
      {
        "duration": 160,
        "start_time": "2023-01-27T11:29:38.432Z"
      },
      {
        "duration": 154,
        "start_time": "2023-01-27T11:29:49.769Z"
      },
      {
        "duration": 163,
        "start_time": "2023-01-27T11:30:44.935Z"
      },
      {
        "duration": 165,
        "start_time": "2023-01-27T11:33:21.737Z"
      },
      {
        "duration": 170,
        "start_time": "2023-01-27T11:33:40.525Z"
      },
      {
        "duration": 168,
        "start_time": "2023-01-27T11:34:11.082Z"
      },
      {
        "duration": 146,
        "start_time": "2023-01-27T11:35:34.352Z"
      },
      {
        "duration": 193,
        "start_time": "2023-01-27T11:35:38.911Z"
      },
      {
        "duration": 215,
        "start_time": "2023-01-27T11:36:12.382Z"
      },
      {
        "duration": 174,
        "start_time": "2023-01-27T11:36:23.652Z"
      },
      {
        "duration": 174,
        "start_time": "2023-01-27T11:36:39.884Z"
      },
      {
        "duration": 1133,
        "start_time": "2023-01-27T11:52:20.309Z"
      },
      {
        "duration": 380,
        "start_time": "2023-01-27T11:52:36.957Z"
      },
      {
        "duration": 294,
        "start_time": "2023-01-27T11:53:47.016Z"
      },
      {
        "duration": 288,
        "start_time": "2023-01-27T11:53:53.616Z"
      },
      {
        "duration": 272,
        "start_time": "2023-01-27T11:54:13.538Z"
      },
      {
        "duration": 294,
        "start_time": "2023-01-27T11:54:25.213Z"
      },
      {
        "duration": 256,
        "start_time": "2023-01-27T11:54:40.659Z"
      },
      {
        "duration": 232,
        "start_time": "2023-01-27T11:54:48.480Z"
      },
      {
        "duration": 334,
        "start_time": "2023-01-27T11:55:32.329Z"
      },
      {
        "duration": 289,
        "start_time": "2023-01-27T11:55:41.550Z"
      },
      {
        "duration": 276,
        "start_time": "2023-01-27T11:55:46.952Z"
      },
      {
        "duration": 178,
        "start_time": "2023-01-27T13:36:34.325Z"
      },
      {
        "duration": 184,
        "start_time": "2023-01-27T13:36:40.934Z"
      },
      {
        "duration": 265,
        "start_time": "2023-01-27T13:37:00.833Z"
      },
      {
        "duration": 196,
        "start_time": "2023-01-27T13:37:10.468Z"
      },
      {
        "duration": 258,
        "start_time": "2023-01-27T13:37:17.565Z"
      },
      {
        "duration": 198,
        "start_time": "2023-01-27T13:37:36.067Z"
      },
      {
        "duration": 206,
        "start_time": "2023-01-27T13:37:43.451Z"
      },
      {
        "duration": 189,
        "start_time": "2023-01-27T13:37:56.620Z"
      },
      {
        "duration": 186,
        "start_time": "2023-01-27T13:38:02.156Z"
      },
      {
        "duration": 202,
        "start_time": "2023-01-27T13:38:46.849Z"
      },
      {
        "duration": 207,
        "start_time": "2023-01-27T13:40:36.204Z"
      },
      {
        "duration": 644,
        "start_time": "2023-01-27T13:42:28.560Z"
      },
      {
        "duration": 269,
        "start_time": "2023-01-27T13:43:04.495Z"
      },
      {
        "duration": 303,
        "start_time": "2023-01-27T13:43:21.337Z"
      },
      {
        "duration": 240,
        "start_time": "2023-01-27T13:43:56.059Z"
      },
      {
        "duration": 309,
        "start_time": "2023-01-27T13:44:18.634Z"
      },
      {
        "duration": 280,
        "start_time": "2023-01-27T13:44:24.659Z"
      },
      {
        "duration": 257,
        "start_time": "2023-01-27T13:44:47.981Z"
      },
      {
        "duration": 313,
        "start_time": "2023-01-27T13:45:03.024Z"
      },
      {
        "duration": 352,
        "start_time": "2023-01-27T13:45:42.236Z"
      },
      {
        "duration": 284,
        "start_time": "2023-01-27T13:46:33.273Z"
      },
      {
        "duration": 11,
        "start_time": "2023-01-27T13:50:06.770Z"
      },
      {
        "duration": 95,
        "start_time": "2023-01-27T13:50:17.969Z"
      },
      {
        "duration": 98,
        "start_time": "2023-01-27T13:50:43.265Z"
      },
      {
        "duration": 323,
        "start_time": "2023-01-27T13:53:19.721Z"
      },
      {
        "duration": 10,
        "start_time": "2023-01-27T14:36:52.673Z"
      },
      {
        "duration": 11,
        "start_time": "2023-01-27T14:38:31.798Z"
      },
      {
        "duration": 11,
        "start_time": "2023-01-27T14:38:40.005Z"
      },
      {
        "duration": 116,
        "start_time": "2023-01-27T14:48:43.715Z"
      },
      {
        "duration": 107,
        "start_time": "2023-01-27T14:48:55.375Z"
      },
      {
        "duration": 121,
        "start_time": "2023-01-27T14:50:06.634Z"
      },
      {
        "duration": 210,
        "start_time": "2023-01-27T14:50:40.942Z"
      },
      {
        "duration": 99,
        "start_time": "2023-01-27T14:51:43.010Z"
      },
      {
        "duration": 103,
        "start_time": "2023-01-27T14:51:49.192Z"
      },
      {
        "duration": 8,
        "start_time": "2023-01-27T15:14:17.429Z"
      },
      {
        "duration": 4,
        "start_time": "2023-01-27T15:14:27.939Z"
      },
      {
        "duration": 6,
        "start_time": "2023-01-27T15:15:08.060Z"
      },
      {
        "duration": 7,
        "start_time": "2023-01-27T15:15:47.233Z"
      },
      {
        "duration": 11,
        "start_time": "2023-01-27T15:16:51.653Z"
      },
      {
        "duration": 6,
        "start_time": "2023-01-27T15:16:57.153Z"
      },
      {
        "duration": 141,
        "start_time": "2023-01-27T16:11:13.880Z"
      },
      {
        "duration": 9,
        "start_time": "2023-01-27T16:11:21.344Z"
      },
      {
        "duration": 8,
        "start_time": "2023-01-27T16:13:38.655Z"
      },
      {
        "duration": 8,
        "start_time": "2023-01-27T16:14:08.200Z"
      },
      {
        "duration": 131,
        "start_time": "2023-01-27T16:14:27.377Z"
      },
      {
        "duration": 124,
        "start_time": "2023-01-27T16:15:03.027Z"
      },
      {
        "duration": 114,
        "start_time": "2023-01-27T16:15:37.471Z"
      },
      {
        "duration": 126,
        "start_time": "2023-01-27T16:16:49.171Z"
      },
      {
        "duration": 157,
        "start_time": "2023-01-27T16:17:26.239Z"
      },
      {
        "duration": 117,
        "start_time": "2023-01-27T16:18:50.059Z"
      },
      {
        "duration": 116,
        "start_time": "2023-01-27T16:18:55.703Z"
      },
      {
        "duration": 153,
        "start_time": "2023-01-27T16:19:19.518Z"
      },
      {
        "duration": 174,
        "start_time": "2023-01-27T16:20:05.989Z"
      },
      {
        "duration": 136,
        "start_time": "2023-01-27T16:20:33.887Z"
      },
      {
        "duration": 42,
        "start_time": "2023-01-27T16:41:46.846Z"
      },
      {
        "duration": 43,
        "start_time": "2023-01-27T16:41:59.526Z"
      },
      {
        "duration": 9,
        "start_time": "2023-01-27T16:42:34.423Z"
      },
      {
        "duration": 1027,
        "start_time": "2023-01-27T16:42:48.330Z"
      },
      {
        "duration": 65,
        "start_time": "2023-01-27T16:42:49.359Z"
      },
      {
        "duration": 17,
        "start_time": "2023-01-27T16:42:49.426Z"
      },
      {
        "duration": 12,
        "start_time": "2023-01-27T16:42:49.444Z"
      },
      {
        "duration": 6,
        "start_time": "2023-01-27T16:42:49.458Z"
      },
      {
        "duration": 22,
        "start_time": "2023-01-27T16:42:49.466Z"
      },
      {
        "duration": 6,
        "start_time": "2023-01-27T16:42:49.489Z"
      },
      {
        "duration": 103,
        "start_time": "2023-01-27T16:42:49.497Z"
      },
      {
        "duration": 0,
        "start_time": "2023-01-27T16:42:49.602Z"
      },
      {
        "duration": 0,
        "start_time": "2023-01-27T16:42:49.604Z"
      },
      {
        "duration": 0,
        "start_time": "2023-01-27T16:42:49.605Z"
      },
      {
        "duration": 0,
        "start_time": "2023-01-27T16:42:49.606Z"
      },
      {
        "duration": 0,
        "start_time": "2023-01-27T16:42:49.608Z"
      },
      {
        "duration": 0,
        "start_time": "2023-01-27T16:42:49.609Z"
      },
      {
        "duration": 0,
        "start_time": "2023-01-27T16:42:49.610Z"
      },
      {
        "duration": 0,
        "start_time": "2023-01-27T16:42:49.611Z"
      },
      {
        "duration": 0,
        "start_time": "2023-01-27T16:42:49.612Z"
      },
      {
        "duration": 0,
        "start_time": "2023-01-27T16:42:49.613Z"
      },
      {
        "duration": 0,
        "start_time": "2023-01-27T16:42:49.614Z"
      },
      {
        "duration": 0,
        "start_time": "2023-01-27T16:42:49.615Z"
      },
      {
        "duration": 0,
        "start_time": "2023-01-27T16:42:49.638Z"
      },
      {
        "duration": 0,
        "start_time": "2023-01-27T16:42:49.639Z"
      },
      {
        "duration": 0,
        "start_time": "2023-01-27T16:42:49.640Z"
      },
      {
        "duration": 0,
        "start_time": "2023-01-27T16:42:49.640Z"
      },
      {
        "duration": 0,
        "start_time": "2023-01-27T16:42:49.641Z"
      },
      {
        "duration": 0,
        "start_time": "2023-01-27T16:42:49.642Z"
      },
      {
        "duration": 7,
        "start_time": "2023-01-27T16:43:10.500Z"
      },
      {
        "duration": 11,
        "start_time": "2023-01-27T16:43:46.127Z"
      },
      {
        "duration": 7,
        "start_time": "2023-01-27T16:44:01.260Z"
      },
      {
        "duration": 45,
        "start_time": "2023-01-27T16:44:32.676Z"
      },
      {
        "duration": 9,
        "start_time": "2023-01-27T16:44:37.766Z"
      },
      {
        "duration": 40,
        "start_time": "2023-01-27T16:45:02.391Z"
      },
      {
        "duration": 18,
        "start_time": "2023-01-27T16:45:12.296Z"
      },
      {
        "duration": 39,
        "start_time": "2023-01-27T16:45:33.286Z"
      },
      {
        "duration": 18,
        "start_time": "2023-01-27T16:45:43.158Z"
      },
      {
        "duration": 17,
        "start_time": "2023-01-27T16:45:48.259Z"
      },
      {
        "duration": 21,
        "start_time": "2023-01-27T16:46:44.145Z"
      },
      {
        "duration": 15,
        "start_time": "2023-01-27T16:47:26.513Z"
      },
      {
        "duration": 9,
        "start_time": "2023-01-27T16:52:42.861Z"
      },
      {
        "duration": 9,
        "start_time": "2023-01-27T16:52:53.995Z"
      },
      {
        "duration": 111,
        "start_time": "2023-01-27T17:26:48.471Z"
      },
      {
        "duration": 6,
        "start_time": "2023-01-27T17:34:40.663Z"
      },
      {
        "duration": 155,
        "start_time": "2023-01-27T17:38:15.557Z"
      },
      {
        "duration": 959,
        "start_time": "2023-01-27T17:39:13.452Z"
      },
      {
        "duration": 158,
        "start_time": "2023-01-27T17:39:25.159Z"
      },
      {
        "duration": 171,
        "start_time": "2023-01-27T17:39:54.638Z"
      },
      {
        "duration": 176,
        "start_time": "2023-01-27T17:41:28.929Z"
      },
      {
        "duration": 76,
        "start_time": "2023-01-29T12:39:52.554Z"
      },
      {
        "duration": 1757,
        "start_time": "2023-01-29T12:40:05.817Z"
      },
      {
        "duration": 198,
        "start_time": "2023-01-29T12:40:13.263Z"
      },
      {
        "duration": 8,
        "start_time": "2023-01-29T12:40:16.732Z"
      },
      {
        "duration": 7,
        "start_time": "2023-01-29T12:40:23.809Z"
      },
      {
        "duration": 18,
        "start_time": "2023-01-29T12:40:33.138Z"
      },
      {
        "duration": 16,
        "start_time": "2023-01-29T12:41:41.772Z"
      },
      {
        "duration": 1020,
        "start_time": "2023-01-29T12:45:24.597Z"
      },
      {
        "duration": 64,
        "start_time": "2023-01-29T12:45:25.620Z"
      },
      {
        "duration": 20,
        "start_time": "2023-01-29T12:45:25.686Z"
      },
      {
        "duration": 19,
        "start_time": "2023-01-29T12:45:25.708Z"
      },
      {
        "duration": 13,
        "start_time": "2023-01-29T12:45:25.730Z"
      },
      {
        "duration": 9,
        "start_time": "2023-01-29T12:45:25.745Z"
      },
      {
        "duration": 20,
        "start_time": "2023-01-29T12:45:25.756Z"
      },
      {
        "duration": 8,
        "start_time": "2023-01-29T12:45:25.778Z"
      },
      {
        "duration": 11,
        "start_time": "2023-01-29T12:45:25.788Z"
      },
      {
        "duration": 305,
        "start_time": "2023-01-29T12:45:25.801Z"
      },
      {
        "duration": 281,
        "start_time": "2023-01-29T12:45:26.108Z"
      },
      {
        "duration": 207,
        "start_time": "2023-01-29T12:45:26.391Z"
      },
      {
        "duration": 290,
        "start_time": "2023-01-29T12:45:26.599Z"
      },
      {
        "duration": 230,
        "start_time": "2023-01-29T12:45:26.892Z"
      },
      {
        "duration": 483,
        "start_time": "2023-01-29T12:45:27.124Z"
      },
      {
        "duration": 19,
        "start_time": "2023-01-29T12:45:27.610Z"
      },
      {
        "duration": 205,
        "start_time": "2023-01-29T12:45:27.632Z"
      },
      {
        "duration": 209,
        "start_time": "2023-01-29T12:45:27.839Z"
      },
      {
        "duration": 8,
        "start_time": "2023-01-29T12:45:28.054Z"
      },
      {
        "duration": 171,
        "start_time": "2023-01-29T12:45:28.064Z"
      },
      {
        "duration": 7,
        "start_time": "2023-01-29T12:45:28.237Z"
      },
      {
        "duration": 295,
        "start_time": "2023-01-29T12:45:28.253Z"
      },
      {
        "duration": 12,
        "start_time": "2023-01-29T12:47:20.595Z"
      },
      {
        "duration": 16,
        "start_time": "2023-01-29T12:47:27.483Z"
      },
      {
        "duration": 12,
        "start_time": "2023-01-29T12:47:33.398Z"
      },
      {
        "duration": 12,
        "start_time": "2023-01-29T12:47:38.989Z"
      },
      {
        "duration": 1103,
        "start_time": "2023-01-29T12:47:51.603Z"
      },
      {
        "duration": 66,
        "start_time": "2023-01-29T12:47:52.708Z"
      },
      {
        "duration": 18,
        "start_time": "2023-01-29T12:47:52.776Z"
      },
      {
        "duration": 14,
        "start_time": "2023-01-29T12:47:52.796Z"
      },
      {
        "duration": 13,
        "start_time": "2023-01-29T12:47:52.813Z"
      },
      {
        "duration": 9,
        "start_time": "2023-01-29T12:47:52.828Z"
      },
      {
        "duration": 30,
        "start_time": "2023-01-29T12:47:52.839Z"
      },
      {
        "duration": 6,
        "start_time": "2023-01-29T12:47:52.870Z"
      },
      {
        "duration": 11,
        "start_time": "2023-01-29T12:47:52.878Z"
      },
      {
        "duration": 300,
        "start_time": "2023-01-29T12:47:52.891Z"
      },
      {
        "duration": 268,
        "start_time": "2023-01-29T12:47:53.193Z"
      },
      {
        "duration": 214,
        "start_time": "2023-01-29T12:47:53.463Z"
      },
      {
        "duration": 277,
        "start_time": "2023-01-29T12:47:53.679Z"
      },
      {
        "duration": 213,
        "start_time": "2023-01-29T12:47:53.958Z"
      },
      {
        "duration": 312,
        "start_time": "2023-01-29T12:47:54.172Z"
      },
      {
        "duration": 11,
        "start_time": "2023-01-29T12:47:54.486Z"
      },
      {
        "duration": 129,
        "start_time": "2023-01-29T12:47:54.499Z"
      },
      {
        "duration": 114,
        "start_time": "2023-01-29T12:47:54.630Z"
      },
      {
        "duration": 11,
        "start_time": "2023-01-29T12:47:54.745Z"
      },
      {
        "duration": 140,
        "start_time": "2023-01-29T12:47:54.758Z"
      },
      {
        "duration": 7,
        "start_time": "2023-01-29T12:47:54.899Z"
      },
      {
        "duration": 240,
        "start_time": "2023-01-29T12:47:54.908Z"
      },
      {
        "duration": 1123,
        "start_time": "2023-01-29T13:20:41.538Z"
      },
      {
        "duration": 69,
        "start_time": "2023-01-29T13:20:42.664Z"
      },
      {
        "duration": 17,
        "start_time": "2023-01-29T13:20:42.735Z"
      },
      {
        "duration": 13,
        "start_time": "2023-01-29T13:20:42.754Z"
      },
      {
        "duration": 14,
        "start_time": "2023-01-29T13:20:42.769Z"
      },
      {
        "duration": 19,
        "start_time": "2023-01-29T13:20:42.785Z"
      },
      {
        "duration": 4,
        "start_time": "2023-01-29T13:20:42.806Z"
      },
      {
        "duration": 43,
        "start_time": "2023-01-29T13:20:42.811Z"
      },
      {
        "duration": 12,
        "start_time": "2023-01-29T13:20:42.856Z"
      },
      {
        "duration": 292,
        "start_time": "2023-01-29T13:20:42.870Z"
      },
      {
        "duration": 291,
        "start_time": "2023-01-29T13:20:43.164Z"
      },
      {
        "duration": 239,
        "start_time": "2023-01-29T13:20:43.457Z"
      },
      {
        "duration": 279,
        "start_time": "2023-01-29T13:20:43.698Z"
      },
      {
        "duration": 218,
        "start_time": "2023-01-29T13:20:43.980Z"
      },
      {
        "duration": 333,
        "start_time": "2023-01-29T13:20:44.199Z"
      },
      {
        "duration": 21,
        "start_time": "2023-01-29T13:20:44.533Z"
      },
      {
        "duration": 121,
        "start_time": "2023-01-29T13:20:44.556Z"
      },
      {
        "duration": 118,
        "start_time": "2023-01-29T13:20:44.678Z"
      },
      {
        "duration": 6,
        "start_time": "2023-01-29T13:20:44.797Z"
      },
      {
        "duration": 150,
        "start_time": "2023-01-29T13:20:44.805Z"
      },
      {
        "duration": 7,
        "start_time": "2023-01-29T13:20:44.956Z"
      },
      {
        "duration": 249,
        "start_time": "2023-01-29T13:20:44.965Z"
      },
      {
        "duration": 46,
        "start_time": "2023-01-29T13:24:41.950Z"
      },
      {
        "duration": 5,
        "start_time": "2023-01-29T13:25:14.667Z"
      },
      {
        "duration": 6,
        "start_time": "2023-01-29T13:25:26.300Z"
      },
      {
        "duration": 10,
        "start_time": "2023-01-29T13:25:44.434Z"
      },
      {
        "duration": 1130,
        "start_time": "2023-01-29T13:26:55.688Z"
      },
      {
        "duration": 65,
        "start_time": "2023-01-29T13:26:56.819Z"
      },
      {
        "duration": 17,
        "start_time": "2023-01-29T13:26:56.885Z"
      },
      {
        "duration": 60,
        "start_time": "2023-01-29T13:26:56.904Z"
      },
      {
        "duration": 16,
        "start_time": "2023-01-29T13:26:56.966Z"
      },
      {
        "duration": 24,
        "start_time": "2023-01-29T13:26:56.984Z"
      },
      {
        "duration": 4,
        "start_time": "2023-01-29T13:26:57.010Z"
      },
      {
        "duration": 11,
        "start_time": "2023-01-29T13:26:57.016Z"
      },
      {
        "duration": 30,
        "start_time": "2023-01-29T13:26:57.029Z"
      },
      {
        "duration": 10,
        "start_time": "2023-01-29T13:26:57.060Z"
      },
      {
        "duration": 292,
        "start_time": "2023-01-29T13:26:57.071Z"
      },
      {
        "duration": 294,
        "start_time": "2023-01-29T13:26:57.365Z"
      },
      {
        "duration": 231,
        "start_time": "2023-01-29T13:26:57.662Z"
      },
      {
        "duration": 275,
        "start_time": "2023-01-29T13:26:57.895Z"
      },
      {
        "duration": 212,
        "start_time": "2023-01-29T13:26:58.172Z"
      },
      {
        "duration": 315,
        "start_time": "2023-01-29T13:26:58.385Z"
      },
      {
        "duration": 11,
        "start_time": "2023-01-29T13:26:58.702Z"
      },
      {
        "duration": 121,
        "start_time": "2023-01-29T13:26:58.714Z"
      },
      {
        "duration": 120,
        "start_time": "2023-01-29T13:26:58.837Z"
      },
      {
        "duration": 6,
        "start_time": "2023-01-29T13:26:58.959Z"
      },
      {
        "duration": 140,
        "start_time": "2023-01-29T13:26:58.967Z"
      },
      {
        "duration": 6,
        "start_time": "2023-01-29T13:26:59.109Z"
      },
      {
        "duration": 246,
        "start_time": "2023-01-29T13:26:59.117Z"
      },
      {
        "duration": 54,
        "start_time": "2023-01-29T13:27:51.328Z"
      },
      {
        "duration": 10,
        "start_time": "2023-01-29T13:28:48.528Z"
      },
      {
        "duration": 11,
        "start_time": "2023-01-29T13:32:33.602Z"
      },
      {
        "duration": 105,
        "start_time": "2023-01-29T13:34:26.025Z"
      },
      {
        "duration": 5,
        "start_time": "2023-01-29T13:34:30.841Z"
      },
      {
        "duration": 6,
        "start_time": "2023-01-29T13:34:45.284Z"
      },
      {
        "duration": 6,
        "start_time": "2023-01-29T13:42:10.332Z"
      },
      {
        "duration": 50,
        "start_time": "2023-01-29T13:43:37.632Z"
      },
      {
        "duration": 5,
        "start_time": "2023-01-29T13:44:30.354Z"
      },
      {
        "duration": 16,
        "start_time": "2023-01-29T13:46:19.155Z"
      },
      {
        "duration": 11,
        "start_time": "2023-01-29T13:49:18.489Z"
      },
      {
        "duration": 12,
        "start_time": "2023-01-29T13:49:47.759Z"
      },
      {
        "duration": 44,
        "start_time": "2023-01-29T15:07:47.376Z"
      },
      {
        "duration": 1191,
        "start_time": "2023-01-29T15:07:53.246Z"
      },
      {
        "duration": 252,
        "start_time": "2023-01-29T15:07:54.439Z"
      },
      {
        "duration": 15,
        "start_time": "2023-01-29T15:07:54.693Z"
      },
      {
        "duration": 13,
        "start_time": "2023-01-29T15:07:54.709Z"
      },
      {
        "duration": 11,
        "start_time": "2023-01-29T15:07:54.725Z"
      },
      {
        "duration": 17,
        "start_time": "2023-01-29T15:07:54.737Z"
      },
      {
        "duration": 2,
        "start_time": "2023-01-29T15:07:54.756Z"
      },
      {
        "duration": 26,
        "start_time": "2023-01-29T15:07:54.759Z"
      },
      {
        "duration": 11,
        "start_time": "2023-01-29T15:07:54.787Z"
      },
      {
        "duration": 8,
        "start_time": "2023-01-29T15:07:54.799Z"
      },
      {
        "duration": 11,
        "start_time": "2023-01-29T15:07:54.808Z"
      },
      {
        "duration": 4,
        "start_time": "2023-01-29T15:07:54.821Z"
      },
      {
        "duration": 1332,
        "start_time": "2023-01-29T15:07:54.827Z"
      },
      {
        "duration": 0,
        "start_time": "2023-01-29T15:07:56.162Z"
      },
      {
        "duration": 0,
        "start_time": "2023-01-29T15:07:56.164Z"
      },
      {
        "duration": 0,
        "start_time": "2023-01-29T15:07:56.165Z"
      },
      {
        "duration": 0,
        "start_time": "2023-01-29T15:07:56.166Z"
      },
      {
        "duration": 0,
        "start_time": "2023-01-29T15:07:56.168Z"
      },
      {
        "duration": 0,
        "start_time": "2023-01-29T15:07:56.169Z"
      },
      {
        "duration": 0,
        "start_time": "2023-01-29T15:07:56.170Z"
      },
      {
        "duration": 0,
        "start_time": "2023-01-29T15:07:56.171Z"
      },
      {
        "duration": 0,
        "start_time": "2023-01-29T15:07:56.172Z"
      },
      {
        "duration": 0,
        "start_time": "2023-01-29T15:07:56.173Z"
      },
      {
        "duration": 0,
        "start_time": "2023-01-29T15:07:56.175Z"
      },
      {
        "duration": 0,
        "start_time": "2023-01-29T15:07:56.176Z"
      },
      {
        "duration": 0,
        "start_time": "2023-01-29T15:07:56.178Z"
      },
      {
        "duration": 12,
        "start_time": "2023-01-29T15:08:33.516Z"
      },
      {
        "duration": 1681,
        "start_time": "2023-01-29T15:08:54.079Z"
      },
      {
        "duration": 1487,
        "start_time": "2023-01-29T15:09:29.820Z"
      },
      {
        "duration": 1264,
        "start_time": "2023-01-29T15:09:44.173Z"
      },
      {
        "duration": 9,
        "start_time": "2023-01-29T15:09:58.912Z"
      },
      {
        "duration": 9,
        "start_time": "2023-01-29T15:10:24.994Z"
      },
      {
        "duration": 10,
        "start_time": "2023-01-29T15:10:28.248Z"
      },
      {
        "duration": 1094,
        "start_time": "2023-01-29T15:10:32.954Z"
      },
      {
        "duration": 79,
        "start_time": "2023-01-29T15:10:34.050Z"
      },
      {
        "duration": 17,
        "start_time": "2023-01-29T15:10:34.130Z"
      },
      {
        "duration": 20,
        "start_time": "2023-01-29T15:10:34.149Z"
      },
      {
        "duration": 27,
        "start_time": "2023-01-29T15:10:34.171Z"
      },
      {
        "duration": 27,
        "start_time": "2023-01-29T15:10:34.200Z"
      },
      {
        "duration": 3,
        "start_time": "2023-01-29T15:10:34.229Z"
      },
      {
        "duration": 18,
        "start_time": "2023-01-29T15:10:34.234Z"
      },
      {
        "duration": 18,
        "start_time": "2023-01-29T15:10:34.254Z"
      },
      {
        "duration": 12,
        "start_time": "2023-01-29T15:10:34.274Z"
      },
      {
        "duration": 14,
        "start_time": "2023-01-29T15:10:34.287Z"
      },
      {
        "duration": 8,
        "start_time": "2023-01-29T15:10:34.302Z"
      },
      {
        "duration": 13,
        "start_time": "2023-01-29T15:10:34.312Z"
      },
      {
        "duration": 311,
        "start_time": "2023-01-29T15:10:34.326Z"
      },
      {
        "duration": 289,
        "start_time": "2023-01-29T15:10:34.639Z"
      },
      {
        "duration": 199,
        "start_time": "2023-01-29T15:10:34.930Z"
      },
      {
        "duration": 272,
        "start_time": "2023-01-29T15:10:35.131Z"
      },
      {
        "duration": 249,
        "start_time": "2023-01-29T15:10:35.405Z"
      },
      {
        "duration": 355,
        "start_time": "2023-01-29T15:10:35.655Z"
      },
      {
        "duration": 13,
        "start_time": "2023-01-29T15:10:36.013Z"
      },
      {
        "duration": 149,
        "start_time": "2023-01-29T15:10:36.027Z"
      },
      {
        "duration": 152,
        "start_time": "2023-01-29T15:10:36.182Z"
      },
      {
        "duration": 8,
        "start_time": "2023-01-29T15:10:36.337Z"
      },
      {
        "duration": 204,
        "start_time": "2023-01-29T15:10:36.347Z"
      },
      {
        "duration": 9,
        "start_time": "2023-01-29T15:10:36.554Z"
      },
      {
        "duration": 269,
        "start_time": "2023-01-29T15:10:36.582Z"
      },
      {
        "duration": 45,
        "start_time": "2023-01-29T15:11:36.797Z"
      },
      {
        "duration": 12,
        "start_time": "2023-01-29T15:14:37.185Z"
      },
      {
        "duration": 9,
        "start_time": "2023-01-29T15:15:01.941Z"
      },
      {
        "duration": 9,
        "start_time": "2023-01-29T15:15:15.430Z"
      },
      {
        "duration": 45,
        "start_time": "2023-01-29T15:15:58.785Z"
      },
      {
        "duration": 11,
        "start_time": "2023-01-29T15:16:25.273Z"
      },
      {
        "duration": 12,
        "start_time": "2023-01-29T15:16:59.326Z"
      },
      {
        "duration": 10,
        "start_time": "2023-01-29T15:17:24.997Z"
      },
      {
        "duration": 10,
        "start_time": "2023-01-29T15:17:33.848Z"
      },
      {
        "duration": 93,
        "start_time": "2023-01-29T15:17:46.718Z"
      },
      {
        "duration": 11,
        "start_time": "2023-01-29T15:17:55.021Z"
      },
      {
        "duration": 15,
        "start_time": "2023-01-29T15:18:35.982Z"
      },
      {
        "duration": 16,
        "start_time": "2023-01-29T15:19:51.534Z"
      },
      {
        "duration": 10,
        "start_time": "2023-01-29T15:21:14.086Z"
      },
      {
        "duration": 11,
        "start_time": "2023-01-29T15:23:25.842Z"
      },
      {
        "duration": 10,
        "start_time": "2023-01-29T15:23:43.665Z"
      },
      {
        "duration": 10,
        "start_time": "2023-01-29T15:23:50.535Z"
      },
      {
        "duration": 11,
        "start_time": "2023-01-29T15:24:35.235Z"
      },
      {
        "duration": 10,
        "start_time": "2023-01-29T15:24:39.321Z"
      },
      {
        "duration": 14,
        "start_time": "2023-01-29T15:24:47.004Z"
      },
      {
        "duration": 9,
        "start_time": "2023-01-29T15:25:08.169Z"
      },
      {
        "duration": 11,
        "start_time": "2023-01-29T15:25:27.077Z"
      },
      {
        "duration": 5,
        "start_time": "2023-01-29T15:27:45.890Z"
      },
      {
        "duration": 65,
        "start_time": "2023-01-29T15:28:14.628Z"
      },
      {
        "duration": 74,
        "start_time": "2023-01-29T15:28:35.269Z"
      },
      {
        "duration": 8,
        "start_time": "2023-01-29T15:28:48.065Z"
      },
      {
        "duration": 6,
        "start_time": "2023-01-29T15:29:22.735Z"
      },
      {
        "duration": 12,
        "start_time": "2023-01-29T15:31:34.583Z"
      },
      {
        "duration": 12,
        "start_time": "2023-01-29T15:31:41.140Z"
      },
      {
        "duration": 5,
        "start_time": "2023-01-29T15:32:56.769Z"
      },
      {
        "duration": 9,
        "start_time": "2023-01-29T15:33:06.544Z"
      },
      {
        "duration": 13,
        "start_time": "2023-01-29T15:33:46.520Z"
      },
      {
        "duration": 90,
        "start_time": "2023-01-29T15:34:10.620Z"
      },
      {
        "duration": 70,
        "start_time": "2023-01-29T15:34:23.436Z"
      },
      {
        "duration": 5,
        "start_time": "2023-01-29T15:34:53.717Z"
      },
      {
        "duration": 6,
        "start_time": "2023-01-29T15:35:31.682Z"
      },
      {
        "duration": 9,
        "start_time": "2023-01-29T15:35:51.503Z"
      },
      {
        "duration": 75,
        "start_time": "2023-01-29T15:45:20.106Z"
      },
      {
        "duration": 8,
        "start_time": "2023-01-29T15:46:39.442Z"
      },
      {
        "duration": 6,
        "start_time": "2023-01-29T15:46:46.499Z"
      },
      {
        "duration": 1184,
        "start_time": "2023-01-29T15:47:01.161Z"
      },
      {
        "duration": 81,
        "start_time": "2023-01-29T15:47:02.347Z"
      },
      {
        "duration": 22,
        "start_time": "2023-01-29T15:47:02.430Z"
      },
      {
        "duration": 14,
        "start_time": "2023-01-29T15:47:02.455Z"
      },
      {
        "duration": 15,
        "start_time": "2023-01-29T15:47:02.472Z"
      },
      {
        "duration": 28,
        "start_time": "2023-01-29T15:47:02.489Z"
      },
      {
        "duration": 4,
        "start_time": "2023-01-29T15:47:02.518Z"
      },
      {
        "duration": 14,
        "start_time": "2023-01-29T15:47:02.524Z"
      },
      {
        "duration": 14,
        "start_time": "2023-01-29T15:47:02.540Z"
      },
      {
        "duration": 31,
        "start_time": "2023-01-29T15:47:02.557Z"
      },
      {
        "duration": 21,
        "start_time": "2023-01-29T15:47:02.590Z"
      },
      {
        "duration": 6,
        "start_time": "2023-01-29T15:47:02.613Z"
      },
      {
        "duration": 15,
        "start_time": "2023-01-29T15:47:02.621Z"
      },
      {
        "duration": 284,
        "start_time": "2023-01-29T15:47:02.638Z"
      },
      {
        "duration": 281,
        "start_time": "2023-01-29T15:47:02.923Z"
      },
      {
        "duration": 203,
        "start_time": "2023-01-29T15:47:03.206Z"
      },
      {
        "duration": 302,
        "start_time": "2023-01-29T15:47:03.411Z"
      },
      {
        "duration": 228,
        "start_time": "2023-01-29T15:47:03.714Z"
      },
      {
        "duration": 369,
        "start_time": "2023-01-29T15:47:03.944Z"
      },
      {
        "duration": 11,
        "start_time": "2023-01-29T15:47:04.315Z"
      },
      {
        "duration": 122,
        "start_time": "2023-01-29T15:47:04.327Z"
      },
      {
        "duration": 137,
        "start_time": "2023-01-29T15:47:04.450Z"
      },
      {
        "duration": 7,
        "start_time": "2023-01-29T15:47:04.589Z"
      },
      {
        "duration": 138,
        "start_time": "2023-01-29T15:47:04.597Z"
      },
      {
        "duration": 8,
        "start_time": "2023-01-29T15:47:04.736Z"
      },
      {
        "duration": 258,
        "start_time": "2023-01-29T15:47:04.745Z"
      },
      {
        "duration": 92,
        "start_time": "2023-01-29T15:47:25.108Z"
      },
      {
        "duration": 11,
        "start_time": "2023-01-29T15:47:41.434Z"
      },
      {
        "duration": 9,
        "start_time": "2023-01-29T15:47:50.950Z"
      },
      {
        "duration": 11,
        "start_time": "2023-01-29T15:48:05.542Z"
      },
      {
        "duration": 11,
        "start_time": "2023-01-29T15:49:00.484Z"
      },
      {
        "duration": 13,
        "start_time": "2023-01-29T15:49:07.539Z"
      },
      {
        "duration": 1114,
        "start_time": "2023-01-29T15:49:14.420Z"
      },
      {
        "duration": 79,
        "start_time": "2023-01-29T15:49:15.536Z"
      },
      {
        "duration": 17,
        "start_time": "2023-01-29T15:49:15.617Z"
      },
      {
        "duration": 14,
        "start_time": "2023-01-29T15:49:15.636Z"
      },
      {
        "duration": 47,
        "start_time": "2023-01-29T15:49:15.651Z"
      },
      {
        "duration": 47,
        "start_time": "2023-01-29T15:49:15.700Z"
      },
      {
        "duration": 3,
        "start_time": "2023-01-29T15:49:15.749Z"
      },
      {
        "duration": 28,
        "start_time": "2023-01-29T15:49:15.754Z"
      },
      {
        "duration": 34,
        "start_time": "2023-01-29T15:49:15.784Z"
      },
      {
        "duration": 15,
        "start_time": "2023-01-29T15:49:15.821Z"
      },
      {
        "duration": 27,
        "start_time": "2023-01-29T15:49:15.838Z"
      },
      {
        "duration": 19,
        "start_time": "2023-01-29T15:49:15.866Z"
      },
      {
        "duration": 315,
        "start_time": "2023-01-29T15:49:15.887Z"
      },
      {
        "duration": 370,
        "start_time": "2023-01-29T15:49:16.204Z"
      },
      {
        "duration": 209,
        "start_time": "2023-01-29T15:49:16.576Z"
      },
      {
        "duration": 318,
        "start_time": "2023-01-29T15:49:16.786Z"
      },
      {
        "duration": 257,
        "start_time": "2023-01-29T15:49:17.106Z"
      },
      {
        "duration": 359,
        "start_time": "2023-01-29T15:49:17.365Z"
      },
      {
        "duration": 14,
        "start_time": "2023-01-29T15:49:17.725Z"
      },
      {
        "duration": 187,
        "start_time": "2023-01-29T15:49:17.741Z"
      },
      {
        "duration": 132,
        "start_time": "2023-01-29T15:49:17.930Z"
      },
      {
        "duration": 18,
        "start_time": "2023-01-29T15:49:18.064Z"
      },
      {
        "duration": 173,
        "start_time": "2023-01-29T15:49:18.084Z"
      },
      {
        "duration": 8,
        "start_time": "2023-01-29T15:49:18.258Z"
      },
      {
        "duration": 233,
        "start_time": "2023-01-29T15:49:18.280Z"
      },
      {
        "duration": 12,
        "start_time": "2023-01-29T15:50:23.623Z"
      },
      {
        "duration": 11,
        "start_time": "2023-01-29T15:55:42.526Z"
      },
      {
        "duration": 6,
        "start_time": "2023-01-29T15:55:50.272Z"
      },
      {
        "duration": 6,
        "start_time": "2023-01-29T15:56:13.469Z"
      },
      {
        "duration": 10,
        "start_time": "2023-01-29T15:56:19.060Z"
      },
      {
        "duration": 9,
        "start_time": "2023-01-29T15:56:25.709Z"
      },
      {
        "duration": 114,
        "start_time": "2023-01-29T15:58:58.601Z"
      },
      {
        "duration": 222,
        "start_time": "2023-01-29T15:59:43.077Z"
      },
      {
        "duration": 199,
        "start_time": "2023-01-29T16:00:49.757Z"
      },
      {
        "duration": 200,
        "start_time": "2023-01-29T16:00:56.653Z"
      },
      {
        "duration": 239,
        "start_time": "2023-01-29T16:01:19.155Z"
      },
      {
        "duration": 211,
        "start_time": "2023-01-29T16:01:48.127Z"
      },
      {
        "duration": 207,
        "start_time": "2023-01-29T16:01:52.169Z"
      },
      {
        "duration": 206,
        "start_time": "2023-01-29T16:04:08.356Z"
      },
      {
        "duration": 311,
        "start_time": "2023-01-29T16:05:36.790Z"
      },
      {
        "duration": 224,
        "start_time": "2023-01-29T16:07:32.062Z"
      },
      {
        "duration": 309,
        "start_time": "2023-01-29T16:08:02.515Z"
      },
      {
        "duration": 312,
        "start_time": "2023-01-29T16:08:44.671Z"
      },
      {
        "duration": 196,
        "start_time": "2023-01-29T16:11:37.939Z"
      },
      {
        "duration": 190,
        "start_time": "2023-01-29T16:13:06.939Z"
      },
      {
        "duration": 207,
        "start_time": "2023-01-29T16:13:19.280Z"
      },
      {
        "duration": 196,
        "start_time": "2023-01-29T16:13:47.581Z"
      },
      {
        "duration": 200,
        "start_time": "2023-01-29T16:14:02.266Z"
      },
      {
        "duration": 192,
        "start_time": "2023-01-29T16:14:21.707Z"
      },
      {
        "duration": 187,
        "start_time": "2023-01-29T16:14:28.241Z"
      },
      {
        "duration": 199,
        "start_time": "2023-01-29T16:14:44.892Z"
      },
      {
        "duration": 193,
        "start_time": "2023-01-29T16:15:12.230Z"
      },
      {
        "duration": 272,
        "start_time": "2023-01-29T16:15:37.433Z"
      },
      {
        "duration": 269,
        "start_time": "2023-01-29T16:15:45.326Z"
      },
      {
        "duration": 375,
        "start_time": "2023-01-29T16:15:53.910Z"
      },
      {
        "duration": 302,
        "start_time": "2023-01-29T16:16:08.427Z"
      },
      {
        "duration": 240,
        "start_time": "2023-01-29T16:16:24.983Z"
      },
      {
        "duration": 349,
        "start_time": "2023-01-29T16:20:45.633Z"
      },
      {
        "duration": 333,
        "start_time": "2023-01-29T16:25:02.500Z"
      },
      {
        "duration": 334,
        "start_time": "2023-01-29T16:25:28.482Z"
      },
      {
        "duration": 371,
        "start_time": "2023-01-29T16:27:22.944Z"
      },
      {
        "duration": 130,
        "start_time": "2023-01-29T16:31:28.832Z"
      },
      {
        "duration": 126,
        "start_time": "2023-01-29T16:31:34.971Z"
      },
      {
        "duration": 117,
        "start_time": "2023-01-29T16:31:41.318Z"
      },
      {
        "duration": 12,
        "start_time": "2023-01-29T16:31:52.737Z"
      },
      {
        "duration": 130,
        "start_time": "2023-01-29T16:31:57.476Z"
      },
      {
        "duration": 222,
        "start_time": "2023-01-29T16:32:17.751Z"
      },
      {
        "duration": 123,
        "start_time": "2023-01-29T16:32:42.720Z"
      },
      {
        "duration": 120,
        "start_time": "2023-01-29T16:33:21.610Z"
      },
      {
        "duration": 125,
        "start_time": "2023-01-29T16:33:45.682Z"
      },
      {
        "duration": 119,
        "start_time": "2023-01-29T16:33:52.220Z"
      },
      {
        "duration": 117,
        "start_time": "2023-01-29T16:34:27.978Z"
      },
      {
        "duration": 120,
        "start_time": "2023-01-29T16:35:15.787Z"
      },
      {
        "duration": 137,
        "start_time": "2023-01-29T16:35:36.296Z"
      },
      {
        "duration": 141,
        "start_time": "2023-01-29T16:35:43.510Z"
      },
      {
        "duration": 141,
        "start_time": "2023-01-29T16:35:54.048Z"
      },
      {
        "duration": 1036,
        "start_time": "2023-01-29T16:36:05.134Z"
      },
      {
        "duration": 83,
        "start_time": "2023-01-29T16:36:06.173Z"
      },
      {
        "duration": 24,
        "start_time": "2023-01-29T16:36:06.258Z"
      },
      {
        "duration": 17,
        "start_time": "2023-01-29T16:36:06.284Z"
      },
      {
        "duration": 20,
        "start_time": "2023-01-29T16:36:06.303Z"
      },
      {
        "duration": 25,
        "start_time": "2023-01-29T16:36:06.325Z"
      },
      {
        "duration": 3,
        "start_time": "2023-01-29T16:36:06.352Z"
      },
      {
        "duration": 28,
        "start_time": "2023-01-29T16:36:06.356Z"
      },
      {
        "duration": 10,
        "start_time": "2023-01-29T16:36:06.385Z"
      },
      {
        "duration": 25,
        "start_time": "2023-01-29T16:36:06.397Z"
      },
      {
        "duration": 29,
        "start_time": "2023-01-29T16:36:06.424Z"
      },
      {
        "duration": 33,
        "start_time": "2023-01-29T16:36:06.456Z"
      },
      {
        "duration": 316,
        "start_time": "2023-01-29T16:36:06.491Z"
      },
      {
        "duration": 292,
        "start_time": "2023-01-29T16:36:06.809Z"
      },
      {
        "duration": 200,
        "start_time": "2023-01-29T16:36:07.102Z"
      },
      {
        "duration": 319,
        "start_time": "2023-01-29T16:36:07.304Z"
      },
      {
        "duration": 257,
        "start_time": "2023-01-29T16:36:07.625Z"
      },
      {
        "duration": 358,
        "start_time": "2023-01-29T16:36:07.883Z"
      },
      {
        "duration": 15,
        "start_time": "2023-01-29T16:36:08.243Z"
      },
      {
        "duration": 165,
        "start_time": "2023-01-29T16:36:08.260Z"
      },
      {
        "duration": 150,
        "start_time": "2023-01-29T16:36:08.426Z"
      },
      {
        "duration": 8,
        "start_time": "2023-01-29T16:36:08.580Z"
      },
      {
        "duration": 150,
        "start_time": "2023-01-29T16:36:08.590Z"
      },
      {
        "duration": 7,
        "start_time": "2023-01-29T16:36:08.742Z"
      },
      {
        "duration": 259,
        "start_time": "2023-01-29T16:36:08.750Z"
      },
      {
        "duration": 108,
        "start_time": "2023-01-29T16:38:10.063Z"
      },
      {
        "duration": 131,
        "start_time": "2023-01-29T16:38:15.620Z"
      },
      {
        "duration": 141,
        "start_time": "2023-01-29T16:39:22.989Z"
      },
      {
        "duration": 139,
        "start_time": "2023-01-29T16:40:02.517Z"
      },
      {
        "duration": 134,
        "start_time": "2023-01-29T16:40:31.197Z"
      },
      {
        "duration": 147,
        "start_time": "2023-01-29T16:40:50.672Z"
      },
      {
        "duration": 139,
        "start_time": "2023-01-29T16:41:33.705Z"
      },
      {
        "duration": 147,
        "start_time": "2023-01-29T16:41:44.170Z"
      },
      {
        "duration": 134,
        "start_time": "2023-01-29T16:43:14.655Z"
      },
      {
        "duration": 165,
        "start_time": "2023-01-29T16:46:53.180Z"
      },
      {
        "duration": 136,
        "start_time": "2023-01-29T16:47:18.107Z"
      },
      {
        "duration": 1389,
        "start_time": "2023-01-29T16:47:45.565Z"
      },
      {
        "duration": 235,
        "start_time": "2023-01-29T16:48:09.890Z"
      },
      {
        "duration": 144,
        "start_time": "2023-01-29T16:48:18.440Z"
      },
      {
        "duration": 134,
        "start_time": "2023-01-29T16:48:44.307Z"
      },
      {
        "duration": 147,
        "start_time": "2023-01-29T16:49:13.895Z"
      },
      {
        "duration": 142,
        "start_time": "2023-01-29T16:49:31.941Z"
      },
      {
        "duration": 150,
        "start_time": "2023-01-29T16:49:47.901Z"
      },
      {
        "duration": 146,
        "start_time": "2023-01-29T16:50:29.068Z"
      },
      {
        "duration": 136,
        "start_time": "2023-01-29T17:00:38.709Z"
      },
      {
        "duration": 143,
        "start_time": "2023-01-29T17:00:45.439Z"
      },
      {
        "duration": 51,
        "start_time": "2023-01-30T09:34:13.142Z"
      },
      {
        "duration": 1163,
        "start_time": "2023-01-30T09:34:19.944Z"
      },
      {
        "duration": 169,
        "start_time": "2023-01-30T09:34:21.108Z"
      },
      {
        "duration": 15,
        "start_time": "2023-01-30T09:34:21.278Z"
      },
      {
        "duration": 13,
        "start_time": "2023-01-30T09:34:21.296Z"
      },
      {
        "duration": 15,
        "start_time": "2023-01-30T09:34:21.311Z"
      },
      {
        "duration": 22,
        "start_time": "2023-01-30T09:34:21.328Z"
      },
      {
        "duration": 3,
        "start_time": "2023-01-30T09:34:21.351Z"
      },
      {
        "duration": 9,
        "start_time": "2023-01-30T09:34:21.356Z"
      },
      {
        "duration": 34,
        "start_time": "2023-01-30T09:34:21.367Z"
      },
      {
        "duration": 8,
        "start_time": "2023-01-30T09:34:21.404Z"
      },
      {
        "duration": 15,
        "start_time": "2023-01-30T09:34:21.413Z"
      },
      {
        "duration": 11,
        "start_time": "2023-01-30T09:34:21.430Z"
      },
      {
        "duration": 286,
        "start_time": "2023-01-30T09:34:21.442Z"
      },
      {
        "duration": 265,
        "start_time": "2023-01-30T09:34:21.730Z"
      },
      {
        "duration": 190,
        "start_time": "2023-01-30T09:34:21.998Z"
      },
      {
        "duration": 353,
        "start_time": "2023-01-30T09:34:22.190Z"
      },
      {
        "duration": 231,
        "start_time": "2023-01-30T09:34:22.545Z"
      },
      {
        "duration": 358,
        "start_time": "2023-01-30T09:34:22.778Z"
      },
      {
        "duration": 11,
        "start_time": "2023-01-30T09:34:23.138Z"
      },
      {
        "duration": 128,
        "start_time": "2023-01-30T09:34:23.150Z"
      },
      {
        "duration": 149,
        "start_time": "2023-01-30T09:34:23.280Z"
      },
      {
        "duration": 7,
        "start_time": "2023-01-30T09:34:23.430Z"
      },
      {
        "duration": 165,
        "start_time": "2023-01-30T09:34:23.439Z"
      },
      {
        "duration": 7,
        "start_time": "2023-01-30T09:34:23.606Z"
      },
      {
        "duration": 236,
        "start_time": "2023-01-30T09:34:23.614Z"
      },
      {
        "duration": 187,
        "start_time": "2023-01-30T09:34:31.837Z"
      },
      {
        "duration": 9,
        "start_time": "2023-01-30T09:44:12.170Z"
      },
      {
        "duration": 9,
        "start_time": "2023-01-30T09:44:35.884Z"
      },
      {
        "duration": 9,
        "start_time": "2023-01-30T09:45:22.458Z"
      },
      {
        "duration": 15,
        "start_time": "2023-01-30T09:45:48.442Z"
      },
      {
        "duration": 16,
        "start_time": "2023-01-30T09:45:59.418Z"
      },
      {
        "duration": 73,
        "start_time": "2023-01-30T09:53:00.994Z"
      },
      {
        "duration": 144,
        "start_time": "2023-01-30T09:58:15.414Z"
      },
      {
        "duration": 8,
        "start_time": "2023-01-30T09:59:34.958Z"
      },
      {
        "duration": 9,
        "start_time": "2023-01-30T10:00:27.642Z"
      },
      {
        "duration": 127,
        "start_time": "2023-01-30T10:02:06.345Z"
      },
      {
        "duration": 35,
        "start_time": "2023-01-30T10:02:28.563Z"
      },
      {
        "duration": 279,
        "start_time": "2023-01-30T10:02:53.727Z"
      },
      {
        "duration": 47,
        "start_time": "2023-01-30T10:03:03.929Z"
      },
      {
        "duration": 1032,
        "start_time": "2023-01-30T10:03:44.798Z"
      },
      {
        "duration": 61,
        "start_time": "2023-01-30T10:03:45.831Z"
      },
      {
        "duration": 18,
        "start_time": "2023-01-30T10:03:45.894Z"
      },
      {
        "duration": 21,
        "start_time": "2023-01-30T10:03:45.914Z"
      },
      {
        "duration": 24,
        "start_time": "2023-01-30T10:03:45.936Z"
      },
      {
        "duration": 39,
        "start_time": "2023-01-30T10:03:45.962Z"
      },
      {
        "duration": 51,
        "start_time": "2023-01-30T10:03:46.003Z"
      },
      {
        "duration": 20,
        "start_time": "2023-01-30T10:03:46.056Z"
      },
      {
        "duration": 50,
        "start_time": "2023-01-30T10:03:46.078Z"
      },
      {
        "duration": 37,
        "start_time": "2023-01-30T10:03:46.130Z"
      },
      {
        "duration": 18,
        "start_time": "2023-01-30T10:03:46.168Z"
      },
      {
        "duration": 32,
        "start_time": "2023-01-30T10:03:46.188Z"
      },
      {
        "duration": 301,
        "start_time": "2023-01-30T10:03:46.221Z"
      },
      {
        "duration": 286,
        "start_time": "2023-01-30T10:03:46.524Z"
      },
      {
        "duration": 209,
        "start_time": "2023-01-30T10:03:46.812Z"
      },
      {
        "duration": 296,
        "start_time": "2023-01-30T10:03:47.023Z"
      },
      {
        "duration": 233,
        "start_time": "2023-01-30T10:03:47.321Z"
      },
      {
        "duration": 356,
        "start_time": "2023-01-30T10:03:47.556Z"
      },
      {
        "duration": 11,
        "start_time": "2023-01-30T10:03:47.914Z"
      },
      {
        "duration": 123,
        "start_time": "2023-01-30T10:03:47.927Z"
      },
      {
        "duration": 128,
        "start_time": "2023-01-30T10:03:48.052Z"
      },
      {
        "duration": 6,
        "start_time": "2023-01-30T10:03:48.182Z"
      },
      {
        "duration": 137,
        "start_time": "2023-01-30T10:03:48.199Z"
      },
      {
        "duration": 7,
        "start_time": "2023-01-30T10:03:48.337Z"
      },
      {
        "duration": 124,
        "start_time": "2023-01-30T10:03:48.346Z"
      },
      {
        "duration": 9,
        "start_time": "2023-01-30T10:03:48.472Z"
      },
      {
        "duration": 30,
        "start_time": "2023-01-30T10:03:48.482Z"
      },
      {
        "duration": 5,
        "start_time": "2023-01-30T10:28:27.297Z"
      },
      {
        "duration": 5,
        "start_time": "2023-01-30T10:28:41.085Z"
      },
      {
        "duration": 4,
        "start_time": "2023-01-30T10:28:56.818Z"
      },
      {
        "duration": 37,
        "start_time": "2023-01-30T10:37:17.344Z"
      },
      {
        "duration": 44,
        "start_time": "2023-01-30T10:37:37.680Z"
      },
      {
        "duration": 36,
        "start_time": "2023-01-30T10:37:42.962Z"
      },
      {
        "duration": 55,
        "start_time": "2023-01-30T10:38:04.652Z"
      },
      {
        "duration": 10,
        "start_time": "2023-01-30T10:47:53.340Z"
      },
      {
        "duration": 11,
        "start_time": "2023-01-30T10:48:12.828Z"
      },
      {
        "duration": 11,
        "start_time": "2023-01-30T10:49:19.165Z"
      },
      {
        "duration": 9,
        "start_time": "2023-01-30T10:49:23.156Z"
      },
      {
        "duration": 15,
        "start_time": "2023-01-30T10:49:41.228Z"
      },
      {
        "duration": 11,
        "start_time": "2023-01-30T11:02:48.635Z"
      },
      {
        "duration": 13,
        "start_time": "2023-01-30T11:02:59.029Z"
      },
      {
        "duration": 12,
        "start_time": "2023-01-30T11:12:31.248Z"
      },
      {
        "duration": 132,
        "start_time": "2023-01-30T11:19:06.261Z"
      },
      {
        "duration": 13,
        "start_time": "2023-01-30T11:19:29.460Z"
      },
      {
        "duration": 10,
        "start_time": "2023-01-30T11:21:06.128Z"
      },
      {
        "duration": 25,
        "start_time": "2023-01-30T11:21:48.181Z"
      },
      {
        "duration": 25,
        "start_time": "2023-01-30T11:24:02.630Z"
      },
      {
        "duration": 26,
        "start_time": "2023-01-30T11:28:52.120Z"
      },
      {
        "duration": 26,
        "start_time": "2023-01-30T11:28:54.875Z"
      },
      {
        "duration": 29,
        "start_time": "2023-01-30T11:32:08.026Z"
      },
      {
        "duration": 16,
        "start_time": "2023-01-30T11:37:51.261Z"
      },
      {
        "duration": 19,
        "start_time": "2023-01-30T11:39:06.665Z"
      },
      {
        "duration": 15,
        "start_time": "2023-01-30T11:39:12.743Z"
      },
      {
        "duration": 15,
        "start_time": "2023-01-30T11:40:03.642Z"
      },
      {
        "duration": 13,
        "start_time": "2023-01-30T11:40:15.864Z"
      },
      {
        "duration": 16,
        "start_time": "2023-01-30T11:40:30.133Z"
      },
      {
        "duration": 16,
        "start_time": "2023-01-30T11:40:39.048Z"
      },
      {
        "duration": 15,
        "start_time": "2023-01-30T11:42:44.365Z"
      },
      {
        "duration": 1002,
        "start_time": "2023-01-30T11:43:50.458Z"
      },
      {
        "duration": 63,
        "start_time": "2023-01-30T11:43:51.462Z"
      },
      {
        "duration": 17,
        "start_time": "2023-01-30T11:43:51.527Z"
      },
      {
        "duration": 15,
        "start_time": "2023-01-30T11:43:51.545Z"
      },
      {
        "duration": 14,
        "start_time": "2023-01-30T11:43:51.562Z"
      },
      {
        "duration": 32,
        "start_time": "2023-01-30T11:43:51.578Z"
      },
      {
        "duration": 9,
        "start_time": "2023-01-30T11:43:51.611Z"
      },
      {
        "duration": 13,
        "start_time": "2023-01-30T11:43:51.621Z"
      },
      {
        "duration": 16,
        "start_time": "2023-01-30T11:43:51.636Z"
      },
      {
        "duration": 15,
        "start_time": "2023-01-30T11:43:51.655Z"
      },
      {
        "duration": 78,
        "start_time": "2023-01-30T11:43:51.672Z"
      },
      {
        "duration": 11,
        "start_time": "2023-01-30T11:43:51.752Z"
      },
      {
        "duration": 298,
        "start_time": "2023-01-30T11:43:51.764Z"
      },
      {
        "duration": 348,
        "start_time": "2023-01-30T11:43:52.064Z"
      },
      {
        "duration": 200,
        "start_time": "2023-01-30T11:43:52.414Z"
      },
      {
        "duration": 304,
        "start_time": "2023-01-30T11:43:52.616Z"
      },
      {
        "duration": 237,
        "start_time": "2023-01-30T11:43:52.922Z"
      },
      {
        "duration": 368,
        "start_time": "2023-01-30T11:43:53.161Z"
      },
      {
        "duration": 11,
        "start_time": "2023-01-30T11:43:53.531Z"
      },
      {
        "duration": 136,
        "start_time": "2023-01-30T11:43:53.544Z"
      },
      {
        "duration": 139,
        "start_time": "2023-01-30T11:43:53.682Z"
      },
      {
        "duration": 6,
        "start_time": "2023-01-30T11:43:53.823Z"
      },
      {
        "duration": 225,
        "start_time": "2023-01-30T11:43:53.831Z"
      },
      {
        "duration": 9,
        "start_time": "2023-01-30T11:43:54.058Z"
      },
      {
        "duration": 144,
        "start_time": "2023-01-30T11:43:54.069Z"
      },
      {
        "duration": 53,
        "start_time": "2023-01-30T11:43:54.214Z"
      },
      {
        "duration": 80,
        "start_time": "2023-01-30T11:43:54.269Z"
      },
      {
        "duration": 73,
        "start_time": "2023-01-30T11:43:54.352Z"
      },
      {
        "duration": 43,
        "start_time": "2023-01-30T11:43:54.427Z"
      },
      {
        "duration": 1152,
        "start_time": "2023-01-30T11:44:09.982Z"
      },
      {
        "duration": 63,
        "start_time": "2023-01-30T11:44:11.136Z"
      },
      {
        "duration": 16,
        "start_time": "2023-01-30T11:44:11.200Z"
      },
      {
        "duration": 58,
        "start_time": "2023-01-30T11:44:11.218Z"
      },
      {
        "duration": 49,
        "start_time": "2023-01-30T11:44:11.278Z"
      },
      {
        "duration": 72,
        "start_time": "2023-01-30T11:44:11.329Z"
      },
      {
        "duration": 45,
        "start_time": "2023-01-30T11:44:11.403Z"
      },
      {
        "duration": 419,
        "start_time": "2023-01-30T11:44:11.450Z"
      },
      {
        "duration": 55,
        "start_time": "2023-01-30T11:44:11.870Z"
      },
      {
        "duration": 41,
        "start_time": "2023-01-30T11:44:11.928Z"
      },
      {
        "duration": 40,
        "start_time": "2023-01-30T11:44:11.971Z"
      },
      {
        "duration": 40,
        "start_time": "2023-01-30T11:44:12.013Z"
      },
      {
        "duration": 288,
        "start_time": "2023-01-30T11:44:12.054Z"
      },
      {
        "duration": 279,
        "start_time": "2023-01-30T11:44:12.344Z"
      },
      {
        "duration": 206,
        "start_time": "2023-01-30T11:44:12.624Z"
      },
      {
        "duration": 296,
        "start_time": "2023-01-30T11:44:12.832Z"
      },
      {
        "duration": 233,
        "start_time": "2023-01-30T11:44:13.130Z"
      },
      {
        "duration": 378,
        "start_time": "2023-01-30T11:44:13.365Z"
      },
      {
        "duration": 11,
        "start_time": "2023-01-30T11:44:13.745Z"
      },
      {
        "duration": 157,
        "start_time": "2023-01-30T11:44:13.758Z"
      },
      {
        "duration": 172,
        "start_time": "2023-01-30T11:44:13.919Z"
      },
      {
        "duration": 8,
        "start_time": "2023-01-30T11:44:14.100Z"
      },
      {
        "duration": 163,
        "start_time": "2023-01-30T11:44:14.110Z"
      },
      {
        "duration": 8,
        "start_time": "2023-01-30T11:44:14.275Z"
      },
      {
        "duration": 149,
        "start_time": "2023-01-30T11:44:14.285Z"
      },
      {
        "duration": 11,
        "start_time": "2023-01-30T11:44:14.436Z"
      },
      {
        "duration": 9,
        "start_time": "2023-01-30T11:44:14.448Z"
      },
      {
        "duration": 42,
        "start_time": "2023-01-30T11:44:14.459Z"
      },
      {
        "duration": 14,
        "start_time": "2023-01-30T11:44:14.503Z"
      },
      {
        "duration": 1018,
        "start_time": "2023-01-30T11:44:48.727Z"
      },
      {
        "duration": 62,
        "start_time": "2023-01-30T11:44:49.747Z"
      },
      {
        "duration": 15,
        "start_time": "2023-01-30T11:44:49.811Z"
      },
      {
        "duration": 21,
        "start_time": "2023-01-30T11:44:49.828Z"
      },
      {
        "duration": 18,
        "start_time": "2023-01-30T11:44:49.851Z"
      },
      {
        "duration": 29,
        "start_time": "2023-01-30T11:44:49.871Z"
      },
      {
        "duration": 13,
        "start_time": "2023-01-30T11:44:49.902Z"
      },
      {
        "duration": 21,
        "start_time": "2023-01-30T11:44:49.916Z"
      },
      {
        "duration": 25,
        "start_time": "2023-01-30T11:44:49.938Z"
      },
      {
        "duration": 15,
        "start_time": "2023-01-30T11:44:49.965Z"
      },
      {
        "duration": 33,
        "start_time": "2023-01-30T11:44:49.982Z"
      },
      {
        "duration": 31,
        "start_time": "2023-01-30T11:44:50.017Z"
      },
      {
        "duration": 263,
        "start_time": "2023-01-30T11:44:50.050Z"
      },
      {
        "duration": 299,
        "start_time": "2023-01-30T11:44:50.316Z"
      },
      {
        "duration": 217,
        "start_time": "2023-01-30T11:44:50.616Z"
      },
      {
        "duration": 317,
        "start_time": "2023-01-30T11:44:50.835Z"
      },
      {
        "duration": 268,
        "start_time": "2023-01-30T11:44:51.154Z"
      },
      {
        "duration": 332,
        "start_time": "2023-01-30T11:44:51.424Z"
      },
      {
        "duration": 11,
        "start_time": "2023-01-30T11:44:51.758Z"
      },
      {
        "duration": 130,
        "start_time": "2023-01-30T11:44:51.770Z"
      },
      {
        "duration": 146,
        "start_time": "2023-01-30T11:44:51.902Z"
      },
      {
        "duration": 7,
        "start_time": "2023-01-30T11:44:52.050Z"
      },
      {
        "duration": 152,
        "start_time": "2023-01-30T11:44:52.059Z"
      },
      {
        "duration": 8,
        "start_time": "2023-01-30T11:44:52.213Z"
      },
      {
        "duration": 134,
        "start_time": "2023-01-30T11:44:52.222Z"
      },
      {
        "duration": 16,
        "start_time": "2023-01-30T11:44:52.357Z"
      },
      {
        "duration": 34,
        "start_time": "2023-01-30T11:44:52.374Z"
      },
      {
        "duration": 40,
        "start_time": "2023-01-30T11:44:52.410Z"
      },
      {
        "duration": 16,
        "start_time": "2023-01-30T11:44:52.452Z"
      },
      {
        "duration": 1054,
        "start_time": "2023-01-30T11:45:46.007Z"
      },
      {
        "duration": 68,
        "start_time": "2023-01-30T11:45:47.063Z"
      },
      {
        "duration": 20,
        "start_time": "2023-01-30T11:45:47.133Z"
      },
      {
        "duration": 20,
        "start_time": "2023-01-30T11:45:47.156Z"
      },
      {
        "duration": 15,
        "start_time": "2023-01-30T11:45:47.178Z"
      },
      {
        "duration": 23,
        "start_time": "2023-01-30T11:45:47.195Z"
      },
      {
        "duration": 3,
        "start_time": "2023-01-30T11:45:47.220Z"
      },
      {
        "duration": 41,
        "start_time": "2023-01-30T11:45:47.225Z"
      },
      {
        "duration": 56,
        "start_time": "2023-01-30T11:45:47.268Z"
      },
      {
        "duration": 42,
        "start_time": "2023-01-30T11:45:47.326Z"
      },
      {
        "duration": 35,
        "start_time": "2023-01-30T11:45:47.369Z"
      },
      {
        "duration": 38,
        "start_time": "2023-01-30T11:45:47.406Z"
      },
      {
        "duration": 353,
        "start_time": "2023-01-30T11:45:47.446Z"
      },
      {
        "duration": 332,
        "start_time": "2023-01-30T11:45:47.801Z"
      },
      {
        "duration": 232,
        "start_time": "2023-01-30T11:45:48.134Z"
      },
      {
        "duration": 323,
        "start_time": "2023-01-30T11:45:48.368Z"
      },
      {
        "duration": 240,
        "start_time": "2023-01-30T11:45:48.694Z"
      },
      {
        "duration": 319,
        "start_time": "2023-01-30T11:45:48.936Z"
      },
      {
        "duration": 13,
        "start_time": "2023-01-30T11:45:49.257Z"
      },
      {
        "duration": 157,
        "start_time": "2023-01-30T11:45:49.272Z"
      },
      {
        "duration": 146,
        "start_time": "2023-01-30T11:45:49.431Z"
      },
      {
        "duration": 8,
        "start_time": "2023-01-30T11:45:49.579Z"
      },
      {
        "duration": 172,
        "start_time": "2023-01-30T11:45:49.600Z"
      },
      {
        "duration": 8,
        "start_time": "2023-01-30T11:45:49.774Z"
      },
      {
        "duration": 130,
        "start_time": "2023-01-30T11:45:49.784Z"
      },
      {
        "duration": 20,
        "start_time": "2023-01-30T11:45:49.916Z"
      },
      {
        "duration": 33,
        "start_time": "2023-01-30T11:45:49.938Z"
      },
      {
        "duration": 50,
        "start_time": "2023-01-30T11:45:49.974Z"
      },
      {
        "duration": 38,
        "start_time": "2023-01-30T11:45:50.026Z"
      },
      {
        "duration": 17,
        "start_time": "2023-01-30T11:47:54.259Z"
      },
      {
        "duration": 15,
        "start_time": "2023-01-30T11:48:10.301Z"
      },
      {
        "duration": 985,
        "start_time": "2023-01-30T12:19:42.458Z"
      },
      {
        "duration": 63,
        "start_time": "2023-01-30T12:19:43.445Z"
      },
      {
        "duration": 20,
        "start_time": "2023-01-30T12:19:43.510Z"
      },
      {
        "duration": 31,
        "start_time": "2023-01-30T12:19:43.533Z"
      },
      {
        "duration": 16,
        "start_time": "2023-01-30T12:19:43.566Z"
      },
      {
        "duration": 43,
        "start_time": "2023-01-30T12:19:43.584Z"
      },
      {
        "duration": 3,
        "start_time": "2023-01-30T12:19:43.629Z"
      },
      {
        "duration": 17,
        "start_time": "2023-01-30T12:19:43.634Z"
      },
      {
        "duration": 18,
        "start_time": "2023-01-30T12:19:43.653Z"
      },
      {
        "duration": 17,
        "start_time": "2023-01-30T12:19:43.674Z"
      },
      {
        "duration": 14,
        "start_time": "2023-01-30T12:19:43.700Z"
      },
      {
        "duration": 21,
        "start_time": "2023-01-30T12:19:43.716Z"
      },
      {
        "duration": 337,
        "start_time": "2023-01-30T12:19:43.739Z"
      },
      {
        "duration": 360,
        "start_time": "2023-01-30T12:19:44.078Z"
      },
      {
        "duration": 210,
        "start_time": "2023-01-30T12:19:44.440Z"
      },
      {
        "duration": 285,
        "start_time": "2023-01-30T12:19:44.652Z"
      },
      {
        "duration": 241,
        "start_time": "2023-01-30T12:19:44.939Z"
      },
      {
        "duration": 387,
        "start_time": "2023-01-30T12:19:45.182Z"
      },
      {
        "duration": 14,
        "start_time": "2023-01-30T12:19:45.571Z"
      },
      {
        "duration": 137,
        "start_time": "2023-01-30T12:19:45.587Z"
      },
      {
        "duration": 140,
        "start_time": "2023-01-30T12:19:45.726Z"
      },
      {
        "duration": 7,
        "start_time": "2023-01-30T12:19:45.868Z"
      },
      {
        "duration": 149,
        "start_time": "2023-01-30T12:19:45.876Z"
      },
      {
        "duration": 6,
        "start_time": "2023-01-30T12:19:46.027Z"
      },
      {
        "duration": 126,
        "start_time": "2023-01-30T12:19:46.035Z"
      },
      {
        "duration": 11,
        "start_time": "2023-01-30T12:19:46.162Z"
      },
      {
        "duration": 29,
        "start_time": "2023-01-30T12:19:46.175Z"
      },
      {
        "duration": 28,
        "start_time": "2023-01-30T12:19:46.207Z"
      },
      {
        "duration": 14,
        "start_time": "2023-01-30T12:19:46.237Z"
      },
      {
        "duration": 1076,
        "start_time": "2023-01-30T12:20:02.475Z"
      },
      {
        "duration": 61,
        "start_time": "2023-01-30T12:20:03.553Z"
      },
      {
        "duration": 17,
        "start_time": "2023-01-30T12:20:03.616Z"
      },
      {
        "duration": 46,
        "start_time": "2023-01-30T12:20:03.635Z"
      },
      {
        "duration": 23,
        "start_time": "2023-01-30T12:20:03.683Z"
      },
      {
        "duration": 46,
        "start_time": "2023-01-30T12:20:03.708Z"
      },
      {
        "duration": 35,
        "start_time": "2023-01-30T12:20:03.756Z"
      },
      {
        "duration": 28,
        "start_time": "2023-01-30T12:20:03.793Z"
      },
      {
        "duration": 34,
        "start_time": "2023-01-30T12:20:03.822Z"
      },
      {
        "duration": 35,
        "start_time": "2023-01-30T12:20:03.858Z"
      },
      {
        "duration": 39,
        "start_time": "2023-01-30T12:20:03.896Z"
      },
      {
        "duration": 48,
        "start_time": "2023-01-30T12:20:03.937Z"
      },
      {
        "duration": 332,
        "start_time": "2023-01-30T12:20:03.987Z"
      },
      {
        "duration": 336,
        "start_time": "2023-01-30T12:20:04.322Z"
      },
      {
        "duration": 260,
        "start_time": "2023-01-30T12:20:04.660Z"
      },
      {
        "duration": 327,
        "start_time": "2023-01-30T12:20:04.922Z"
      },
      {
        "duration": 277,
        "start_time": "2023-01-30T12:20:05.251Z"
      },
      {
        "duration": 364,
        "start_time": "2023-01-30T12:20:05.530Z"
      },
      {
        "duration": 12,
        "start_time": "2023-01-30T12:20:05.896Z"
      },
      {
        "duration": 145,
        "start_time": "2023-01-30T12:20:05.910Z"
      },
      {
        "duration": 161,
        "start_time": "2023-01-30T12:20:06.056Z"
      },
      {
        "duration": 8,
        "start_time": "2023-01-30T12:20:06.218Z"
      },
      {
        "duration": 192,
        "start_time": "2023-01-30T12:20:06.228Z"
      },
      {
        "duration": 8,
        "start_time": "2023-01-30T12:20:06.421Z"
      },
      {
        "duration": 145,
        "start_time": "2023-01-30T12:20:06.431Z"
      },
      {
        "duration": 36,
        "start_time": "2023-01-30T12:20:06.579Z"
      },
      {
        "duration": 16,
        "start_time": "2023-01-30T12:20:06.618Z"
      },
      {
        "duration": 39,
        "start_time": "2023-01-30T12:20:06.636Z"
      },
      {
        "duration": 22,
        "start_time": "2023-01-30T12:20:06.698Z"
      },
      {
        "duration": 1424,
        "start_time": "2023-01-30T16:45:52.642Z"
      },
      {
        "duration": 246,
        "start_time": "2023-01-30T16:45:54.069Z"
      },
      {
        "duration": 18,
        "start_time": "2023-01-30T16:45:54.317Z"
      },
      {
        "duration": 16,
        "start_time": "2023-01-30T16:45:54.338Z"
      },
      {
        "duration": 13,
        "start_time": "2023-01-30T16:45:54.356Z"
      },
      {
        "duration": 20,
        "start_time": "2023-01-30T16:45:54.371Z"
      },
      {
        "duration": 3,
        "start_time": "2023-01-30T16:45:54.393Z"
      },
      {
        "duration": 11,
        "start_time": "2023-01-30T16:45:54.398Z"
      },
      {
        "duration": 12,
        "start_time": "2023-01-30T16:45:54.410Z"
      },
      {
        "duration": 8,
        "start_time": "2023-01-30T16:45:54.425Z"
      },
      {
        "duration": 49,
        "start_time": "2023-01-30T16:45:54.434Z"
      },
      {
        "duration": 17,
        "start_time": "2023-01-30T16:45:54.486Z"
      },
      {
        "duration": 316,
        "start_time": "2023-01-30T16:45:54.505Z"
      },
      {
        "duration": 313,
        "start_time": "2023-01-30T16:45:54.823Z"
      },
      {
        "duration": 218,
        "start_time": "2023-01-30T16:45:55.138Z"
      },
      {
        "duration": 379,
        "start_time": "2023-01-30T16:45:55.358Z"
      },
      {
        "duration": 249,
        "start_time": "2023-01-30T16:45:55.739Z"
      },
      {
        "duration": 396,
        "start_time": "2023-01-30T16:45:55.990Z"
      },
      {
        "duration": 13,
        "start_time": "2023-01-30T16:45:56.389Z"
      },
      {
        "duration": 218,
        "start_time": "2023-01-30T16:45:56.405Z"
      },
      {
        "duration": 147,
        "start_time": "2023-01-30T16:45:56.625Z"
      },
      {
        "duration": 12,
        "start_time": "2023-01-30T16:45:56.774Z"
      },
      {
        "duration": 165,
        "start_time": "2023-01-30T16:45:56.788Z"
      },
      {
        "duration": 7,
        "start_time": "2023-01-30T16:45:56.955Z"
      },
      {
        "duration": 157,
        "start_time": "2023-01-30T16:45:56.964Z"
      },
      {
        "duration": 12,
        "start_time": "2023-01-30T16:45:57.122Z"
      },
      {
        "duration": 27,
        "start_time": "2023-01-30T16:45:57.136Z"
      },
      {
        "duration": 37,
        "start_time": "2023-01-30T16:45:57.167Z"
      },
      {
        "duration": 17,
        "start_time": "2023-01-30T16:45:57.207Z"
      },
      {
        "duration": 49,
        "start_time": "2023-01-30T17:34:28.088Z"
      },
      {
        "duration": 1296,
        "start_time": "2023-01-30T17:34:34.636Z"
      },
      {
        "duration": 197,
        "start_time": "2023-01-30T17:34:35.934Z"
      },
      {
        "duration": 19,
        "start_time": "2023-01-30T17:34:36.135Z"
      },
      {
        "duration": 15,
        "start_time": "2023-01-30T17:34:36.156Z"
      },
      {
        "duration": 14,
        "start_time": "2023-01-30T17:34:36.173Z"
      },
      {
        "duration": 53,
        "start_time": "2023-01-30T17:34:36.189Z"
      },
      {
        "duration": 3,
        "start_time": "2023-01-30T17:34:36.244Z"
      },
      {
        "duration": 12,
        "start_time": "2023-01-30T17:34:36.249Z"
      },
      {
        "duration": 13,
        "start_time": "2023-01-30T17:34:36.263Z"
      },
      {
        "duration": 11,
        "start_time": "2023-01-30T17:34:36.277Z"
      },
      {
        "duration": 12,
        "start_time": "2023-01-30T17:34:36.290Z"
      },
      {
        "duration": 43,
        "start_time": "2023-01-30T17:34:36.304Z"
      },
      {
        "duration": 299,
        "start_time": "2023-01-30T17:34:36.349Z"
      },
      {
        "duration": 296,
        "start_time": "2023-01-30T17:34:36.650Z"
      },
      {
        "duration": 216,
        "start_time": "2023-01-30T17:34:36.948Z"
      },
      {
        "duration": 345,
        "start_time": "2023-01-30T17:34:37.165Z"
      },
      {
        "duration": 253,
        "start_time": "2023-01-30T17:34:37.512Z"
      },
      {
        "duration": 355,
        "start_time": "2023-01-30T17:34:37.766Z"
      },
      {
        "duration": 20,
        "start_time": "2023-01-30T17:34:38.123Z"
      },
      {
        "duration": 143,
        "start_time": "2023-01-30T17:34:38.144Z"
      },
      {
        "duration": 154,
        "start_time": "2023-01-30T17:34:38.289Z"
      },
      {
        "duration": 7,
        "start_time": "2023-01-30T17:34:38.445Z"
      },
      {
        "duration": 160,
        "start_time": "2023-01-30T17:34:38.453Z"
      },
      {
        "duration": 116,
        "start_time": "2023-01-30T17:34:38.614Z"
      },
      {
        "duration": 0,
        "start_time": "2023-01-30T17:34:38.731Z"
      },
      {
        "duration": 0,
        "start_time": "2023-01-30T17:34:38.733Z"
      },
      {
        "duration": 0,
        "start_time": "2023-01-30T17:34:38.734Z"
      },
      {
        "duration": 0,
        "start_time": "2023-01-30T17:34:38.739Z"
      },
      {
        "duration": 0,
        "start_time": "2023-01-30T17:34:38.740Z"
      },
      {
        "duration": 0,
        "start_time": "2023-01-30T17:34:38.741Z"
      },
      {
        "duration": 237,
        "start_time": "2023-01-30T17:34:48.209Z"
      },
      {
        "duration": 149,
        "start_time": "2023-01-30T17:35:59.703Z"
      },
      {
        "duration": 12,
        "start_time": "2023-01-30T17:36:49.337Z"
      },
      {
        "duration": 140,
        "start_time": "2023-01-30T17:37:54.774Z"
      },
      {
        "duration": 15,
        "start_time": "2023-01-30T17:40:33.496Z"
      },
      {
        "duration": 12,
        "start_time": "2023-01-30T17:40:38.357Z"
      },
      {
        "duration": 150,
        "start_time": "2023-01-30T17:41:00.452Z"
      },
      {
        "duration": 146,
        "start_time": "2023-01-30T17:41:40.741Z"
      },
      {
        "duration": 135,
        "start_time": "2023-01-30T17:42:52.698Z"
      },
      {
        "duration": 145,
        "start_time": "2023-01-30T17:43:09.721Z"
      },
      {
        "duration": 155,
        "start_time": "2023-01-30T17:43:27.853Z"
      },
      {
        "duration": 142,
        "start_time": "2023-01-30T17:43:36.212Z"
      },
      {
        "duration": 136,
        "start_time": "2023-01-30T17:45:03.791Z"
      },
      {
        "duration": 158,
        "start_time": "2023-01-30T17:45:09.358Z"
      },
      {
        "duration": 146,
        "start_time": "2023-01-30T17:46:15.539Z"
      },
      {
        "duration": 215,
        "start_time": "2023-01-30T17:46:22.117Z"
      },
      {
        "duration": 138,
        "start_time": "2023-01-30T17:46:27.555Z"
      },
      {
        "duration": 45,
        "start_time": "2023-01-30T17:47:02.241Z"
      },
      {
        "duration": 49,
        "start_time": "2023-01-30T17:47:12.190Z"
      },
      {
        "duration": 1157,
        "start_time": "2023-01-30T17:47:17.934Z"
      },
      {
        "duration": 69,
        "start_time": "2023-01-30T17:47:19.093Z"
      },
      {
        "duration": 17,
        "start_time": "2023-01-30T17:47:19.164Z"
      },
      {
        "duration": 15,
        "start_time": "2023-01-30T17:47:19.184Z"
      },
      {
        "duration": 15,
        "start_time": "2023-01-30T17:47:19.201Z"
      },
      {
        "duration": 34,
        "start_time": "2023-01-30T17:47:19.217Z"
      },
      {
        "duration": 4,
        "start_time": "2023-01-30T17:47:19.253Z"
      },
      {
        "duration": 12,
        "start_time": "2023-01-30T17:47:19.259Z"
      },
      {
        "duration": 24,
        "start_time": "2023-01-30T17:47:19.273Z"
      },
      {
        "duration": 8,
        "start_time": "2023-01-30T17:47:19.300Z"
      },
      {
        "duration": 37,
        "start_time": "2023-01-30T17:47:19.310Z"
      },
      {
        "duration": 11,
        "start_time": "2023-01-30T17:47:19.349Z"
      },
      {
        "duration": 311,
        "start_time": "2023-01-30T17:47:19.362Z"
      },
      {
        "duration": 311,
        "start_time": "2023-01-30T17:47:19.675Z"
      },
      {
        "duration": 219,
        "start_time": "2023-01-30T17:47:19.987Z"
      },
      {
        "duration": 348,
        "start_time": "2023-01-30T17:47:20.207Z"
      },
      {
        "duration": 246,
        "start_time": "2023-01-30T17:47:20.556Z"
      },
      {
        "duration": 393,
        "start_time": "2023-01-30T17:47:20.803Z"
      },
      {
        "duration": 11,
        "start_time": "2023-01-30T17:47:21.198Z"
      },
      {
        "duration": 131,
        "start_time": "2023-01-30T17:47:21.211Z"
      },
      {
        "duration": 149,
        "start_time": "2023-01-30T17:47:21.344Z"
      },
      {
        "duration": 7,
        "start_time": "2023-01-30T17:47:21.494Z"
      },
      {
        "duration": 164,
        "start_time": "2023-01-30T17:47:21.503Z"
      },
      {
        "duration": 60,
        "start_time": "2023-01-30T17:47:21.669Z"
      },
      {
        "duration": 0,
        "start_time": "2023-01-30T17:47:21.730Z"
      },
      {
        "duration": 0,
        "start_time": "2023-01-30T17:47:21.732Z"
      },
      {
        "duration": 0,
        "start_time": "2023-01-30T17:47:21.733Z"
      },
      {
        "duration": 0,
        "start_time": "2023-01-30T17:47:21.734Z"
      },
      {
        "duration": 0,
        "start_time": "2023-01-30T17:47:21.735Z"
      },
      {
        "duration": 0,
        "start_time": "2023-01-30T17:47:21.736Z"
      },
      {
        "duration": 52,
        "start_time": "2023-01-30T17:47:37.572Z"
      },
      {
        "duration": 48,
        "start_time": "2023-01-30T17:47:42.195Z"
      },
      {
        "duration": 324,
        "start_time": "2023-01-30T17:49:31.490Z"
      },
      {
        "duration": 147,
        "start_time": "2023-01-30T17:49:36.917Z"
      },
      {
        "duration": 135,
        "start_time": "2023-01-30T17:50:52.573Z"
      },
      {
        "duration": 127,
        "start_time": "2023-01-30T17:51:13.191Z"
      },
      {
        "duration": 122,
        "start_time": "2023-01-30T17:51:20.759Z"
      },
      {
        "duration": 132,
        "start_time": "2023-01-30T17:51:51.624Z"
      },
      {
        "duration": 130,
        "start_time": "2023-01-30T17:52:39.282Z"
      },
      {
        "duration": 14,
        "start_time": "2023-01-30T17:54:27.136Z"
      },
      {
        "duration": 149,
        "start_time": "2023-01-30T17:54:47.419Z"
      },
      {
        "duration": 138,
        "start_time": "2023-01-30T17:55:09.352Z"
      },
      {
        "duration": 149,
        "start_time": "2023-01-30T17:57:37.462Z"
      },
      {
        "duration": 148,
        "start_time": "2023-01-30T17:59:01.302Z"
      },
      {
        "duration": 131,
        "start_time": "2023-01-30T17:59:05.384Z"
      },
      {
        "duration": 134,
        "start_time": "2023-01-30T17:59:10.078Z"
      },
      {
        "duration": 247,
        "start_time": "2023-01-30T18:00:50.039Z"
      },
      {
        "duration": 55,
        "start_time": "2023-01-30T18:02:58.640Z"
      },
      {
        "duration": 47,
        "start_time": "2023-01-30T18:03:05.794Z"
      },
      {
        "duration": 11,
        "start_time": "2023-01-30T18:05:53.847Z"
      },
      {
        "duration": 1128,
        "start_time": "2023-01-30T18:06:04.691Z"
      },
      {
        "duration": 66,
        "start_time": "2023-01-30T18:06:05.821Z"
      },
      {
        "duration": 17,
        "start_time": "2023-01-30T18:06:05.889Z"
      },
      {
        "duration": 20,
        "start_time": "2023-01-30T18:06:05.907Z"
      },
      {
        "duration": 14,
        "start_time": "2023-01-30T18:06:05.929Z"
      },
      {
        "duration": 27,
        "start_time": "2023-01-30T18:06:05.945Z"
      },
      {
        "duration": 10,
        "start_time": "2023-01-30T18:06:05.974Z"
      },
      {
        "duration": 20,
        "start_time": "2023-01-30T18:06:05.985Z"
      },
      {
        "duration": 13,
        "start_time": "2023-01-30T18:06:06.007Z"
      },
      {
        "duration": 22,
        "start_time": "2023-01-30T18:06:06.022Z"
      },
      {
        "duration": 20,
        "start_time": "2023-01-30T18:06:06.045Z"
      },
      {
        "duration": 33,
        "start_time": "2023-01-30T18:06:06.068Z"
      },
      {
        "duration": 316,
        "start_time": "2023-01-30T18:06:06.103Z"
      },
      {
        "duration": 309,
        "start_time": "2023-01-30T18:06:06.421Z"
      },
      {
        "duration": 210,
        "start_time": "2023-01-30T18:06:06.739Z"
      },
      {
        "duration": 311,
        "start_time": "2023-01-30T18:06:06.951Z"
      },
      {
        "duration": 252,
        "start_time": "2023-01-30T18:06:07.263Z"
      },
      {
        "duration": 388,
        "start_time": "2023-01-30T18:06:07.517Z"
      },
      {
        "duration": 12,
        "start_time": "2023-01-30T18:06:07.906Z"
      },
      {
        "duration": 135,
        "start_time": "2023-01-30T18:06:07.920Z"
      },
      {
        "duration": 155,
        "start_time": "2023-01-30T18:06:08.057Z"
      },
      {
        "duration": 9,
        "start_time": "2023-01-30T18:06:08.214Z"
      },
      {
        "duration": 197,
        "start_time": "2023-01-30T18:06:08.225Z"
      },
      {
        "duration": 236,
        "start_time": "2023-01-30T18:06:08.424Z"
      },
      {
        "duration": 7,
        "start_time": "2023-01-30T18:06:08.662Z"
      },
      {
        "duration": 42,
        "start_time": "2023-01-30T18:06:08.671Z"
      },
      {
        "duration": 35,
        "start_time": "2023-01-30T18:06:08.715Z"
      },
      {
        "duration": 145,
        "start_time": "2023-01-30T18:06:08.751Z"
      },
      {
        "duration": 0,
        "start_time": "2023-01-30T18:06:08.898Z"
      },
      {
        "duration": 0,
        "start_time": "2023-01-30T18:06:08.899Z"
      },
      {
        "duration": 5,
        "start_time": "2023-01-30T18:06:44.820Z"
      },
      {
        "duration": 7,
        "start_time": "2023-01-30T18:07:48.662Z"
      },
      {
        "duration": 11,
        "start_time": "2023-01-30T18:08:07.260Z"
      },
      {
        "duration": 8,
        "start_time": "2023-01-30T18:08:21.946Z"
      },
      {
        "duration": 10,
        "start_time": "2023-01-30T18:08:34.590Z"
      },
      {
        "duration": 6,
        "start_time": "2023-01-30T18:09:03.962Z"
      },
      {
        "duration": 1185,
        "start_time": "2023-01-30T18:09:19.834Z"
      },
      {
        "duration": 69,
        "start_time": "2023-01-30T18:09:21.021Z"
      },
      {
        "duration": 17,
        "start_time": "2023-01-30T18:09:21.092Z"
      },
      {
        "duration": 23,
        "start_time": "2023-01-30T18:09:21.112Z"
      },
      {
        "duration": 23,
        "start_time": "2023-01-30T18:09:21.137Z"
      },
      {
        "duration": 34,
        "start_time": "2023-01-30T18:09:21.161Z"
      },
      {
        "duration": 17,
        "start_time": "2023-01-30T18:09:21.197Z"
      },
      {
        "duration": 38,
        "start_time": "2023-01-30T18:09:21.216Z"
      },
      {
        "duration": 19,
        "start_time": "2023-01-30T18:09:21.256Z"
      },
      {
        "duration": 31,
        "start_time": "2023-01-30T18:09:21.277Z"
      },
      {
        "duration": 29,
        "start_time": "2023-01-30T18:09:21.309Z"
      },
      {
        "duration": 25,
        "start_time": "2023-01-30T18:09:21.340Z"
      },
      {
        "duration": 286,
        "start_time": "2023-01-30T18:09:21.366Z"
      },
      {
        "duration": 292,
        "start_time": "2023-01-30T18:09:21.654Z"
      },
      {
        "duration": 218,
        "start_time": "2023-01-30T18:09:21.948Z"
      },
      {
        "duration": 303,
        "start_time": "2023-01-30T18:09:22.167Z"
      },
      {
        "duration": 253,
        "start_time": "2023-01-30T18:09:22.472Z"
      },
      {
        "duration": 371,
        "start_time": "2023-01-30T18:09:22.726Z"
      },
      {
        "duration": 10,
        "start_time": "2023-01-30T18:09:23.099Z"
      },
      {
        "duration": 145,
        "start_time": "2023-01-30T18:09:23.111Z"
      },
      {
        "duration": 146,
        "start_time": "2023-01-30T18:09:23.258Z"
      },
      {
        "duration": 6,
        "start_time": "2023-01-30T18:09:23.406Z"
      },
      {
        "duration": 153,
        "start_time": "2023-01-30T18:09:23.413Z"
      },
      {
        "duration": 224,
        "start_time": "2023-01-30T18:09:23.568Z"
      },
      {
        "duration": 8,
        "start_time": "2023-01-30T18:09:23.794Z"
      },
      {
        "duration": 94,
        "start_time": "2023-01-30T18:09:23.804Z"
      },
      {
        "duration": 14,
        "start_time": "2023-01-30T18:09:23.900Z"
      },
      {
        "duration": 10,
        "start_time": "2023-01-30T18:09:23.917Z"
      },
      {
        "duration": 44,
        "start_time": "2023-01-30T18:09:23.928Z"
      },
      {
        "duration": 14,
        "start_time": "2023-01-30T18:09:23.974Z"
      },
      {
        "duration": 10,
        "start_time": "2023-01-30T18:09:44.930Z"
      },
      {
        "duration": 7,
        "start_time": "2023-01-30T18:10:48.100Z"
      },
      {
        "duration": 6,
        "start_time": "2023-01-30T18:10:53.416Z"
      }
    ],
    "kernelspec": {
      "display_name": "Python 3 (ipykernel)",
      "language": "python",
      "name": "python3"
    },
    "language_info": {
      "codemirror_mode": {
        "name": "ipython",
        "version": 3
      },
      "file_extension": ".py",
      "mimetype": "text/x-python",
      "name": "python",
      "nbconvert_exporter": "python",
      "pygments_lexer": "ipython3",
      "version": "3.9.5"
    },
    "toc": {
      "base_numbering": 1,
      "nav_menu": {},
      "number_sections": true,
      "sideBar": true,
      "skip_h1_title": true,
      "title_cell": "Table of Contents",
      "title_sidebar": "Contents",
      "toc_cell": false,
      "toc_position": {
        "height": "calc(100% - 180px)",
        "left": "10px",
        "top": "150px",
        "width": "260.594px"
      },
      "toc_section_display": true,
      "toc_window_display": false
    },
    "colab": {
      "provenance": []
    }
  },
  "nbformat": 4,
  "nbformat_minor": 0
}